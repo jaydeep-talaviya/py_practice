{
 "cells": [
  {
   "cell_type": "code",
   "execution_count": 1,
   "metadata": {},
   "outputs": [],
   "source": [
    "# Stack\n"
   ]
  },
  {
   "cell_type": "code",
   "execution_count": 1,
   "metadata": {},
   "outputs": [],
   "source": [
    "class Stack(object):\n",
    "    def __init__(self,limit=10):\n",
    "        self.stk=[]\n",
    "        self.limit=limit\n",
    "        \n",
    "    def isEmpty(self):\n",
    "        return len(self.stk)<=0\n",
    "    \n",
    "    def push(self, item):\n",
    "        if len(self.stk) >= self.limit:\n",
    "            print('Stack Overflow!')\n",
    "        else:\n",
    "            self.stk.append(item)\n",
    "        print('Stack after Push',self.stk)\n",
    "    def pop(self):\n",
    "        if len(self.stk) <= 0:\n",
    "            print('Stack Underflow!')\n",
    "            return 0\n",
    "        else:\n",
    "            return self.stk.pop()\n",
    "    def peek(self):\n",
    "        if len(self.stk) < 0:\n",
    "            print('Stack UndcrOowl')\n",
    "            return 0\n",
    "        else:\n",
    "            return self.stk[-1]\n",
    "    def size(self):\n",
    "        return len(self.stk) "
   ]
  },
  {
   "cell_type": "code",
   "execution_count": 41,
   "metadata": {},
   "outputs": [],
   "source": [
    "our_stack=Stack(5)"
   ]
  },
  {
   "cell_type": "code",
   "execution_count": 42,
   "metadata": {},
   "outputs": [
    {
     "name": "stdout",
     "output_type": "stream",
     "text": [
      "Stack after Push ['1']\n"
     ]
    }
   ],
   "source": [
    "our_stack.push(\"1\")"
   ]
  },
  {
   "cell_type": "code",
   "execution_count": 43,
   "metadata": {},
   "outputs": [
    {
     "name": "stdout",
     "output_type": "stream",
     "text": [
      "Stack after Push ['1', '0']\n",
      "Stack after Push ['1', '0', '2']\n",
      "Stack after Push ['1', '0', '2', '3']\n",
      "Stack after Push ['1', '0', '2', '3', '4']\n",
      "Stack Overflow!\n",
      "Stack after Push ['1', '0', '2', '3', '4']\n",
      "Stack Overflow!\n",
      "Stack after Push ['1', '0', '2', '3', '4']\n",
      "Stack Overflow!\n",
      "Stack after Push ['1', '0', '2', '3', '4']\n",
      "Stack Overflow!\n",
      "Stack after Push ['1', '0', '2', '3', '4']\n",
      "Stack Overflow!\n",
      "Stack after Push ['1', '0', '2', '3', '4']\n",
      "Stack Overflow!\n",
      "Stack after Push ['1', '0', '2', '3', '4']\n"
     ]
    },
    {
     "data": {
      "text/plain": [
       "'4'"
      ]
     },
     "execution_count": 43,
     "metadata": {},
     "output_type": "execute_result"
    }
   ],
   "source": [
    "our_stack.push(\"0\")\n",
    "our_stack.push(\"2\")\n",
    "our_stack.push(\"3\")\n",
    "our_stack.push(\"4\")\n",
    "our_stack.push(\"5\")\n",
    "our_stack.push(\"6\")\n",
    "our_stack.push(\"7\")\n",
    "our_stack.push(\"8\")\n",
    "our_stack.push(\"9\")\n",
    "our_stack.push(\"9\")\n",
    "\n",
    "our_stack.peek()"
   ]
  },
  {
   "cell_type": "code",
   "execution_count": 44,
   "metadata": {},
   "outputs": [
    {
     "data": {
      "text/plain": [
       "5"
      ]
     },
     "execution_count": 44,
     "metadata": {},
     "output_type": "execute_result"
    }
   ],
   "source": [
    "our_stack.size()"
   ]
  },
  {
   "cell_type": "code",
   "execution_count": 45,
   "metadata": {},
   "outputs": [
    {
     "data": {
      "text/plain": [
       "False"
      ]
     },
     "execution_count": 45,
     "metadata": {},
     "output_type": "execute_result"
    }
   ],
   "source": [
    "our_stack.isEmpty()"
   ]
  },
  {
   "cell_type": "code",
   "execution_count": 46,
   "metadata": {},
   "outputs": [
    {
     "data": {
      "text/plain": [
       "'4'"
      ]
     },
     "execution_count": 46,
     "metadata": {},
     "output_type": "execute_result"
    }
   ],
   "source": [
    "our_stack.pop()"
   ]
  },
  {
   "cell_type": "code",
   "execution_count": 1,
   "metadata": {},
   "outputs": [],
   "source": [
    "class Stack(object):\n",
    "    def __init__(self,limit=10):\n",
    "        self.stk=[]\n",
    "        self.limit=limit\n",
    "    def isEmpty(self):\n",
    "        return len(self.stk)<0\n",
    "    \n",
    "    def push(self,item):\n",
    "        if len(self.stk)>=self.limit:\n",
    "            print(\"overFlow\")\n",
    "        else:\n",
    "            return self.stk.append(item)\n",
    "    def pop(self):\n",
    "        if len(self.stk)<=0:\n",
    "            print(\"underflow\")\n",
    "        else:\n",
    "            return self.stk.pop()\n",
    "    def peek(self):\n",
    "        if len(self.stk)<=0:\n",
    "            print(\"underflow\")\n",
    "        else:\n",
    "            return self.stk[-1]\n",
    "    def size(self):\n",
    "        return len(self.stk)\n",
    "  "
   ]
  },
  {
   "cell_type": "code",
   "execution_count": 2,
   "metadata": {},
   "outputs": [],
   "source": [
    "test=Stack(0)"
   ]
  },
  {
   "cell_type": "code",
   "execution_count": 3,
   "metadata": {},
   "outputs": [
    {
     "data": {
      "text/plain": [
       "False"
      ]
     },
     "execution_count": 3,
     "metadata": {},
     "output_type": "execute_result"
    }
   ],
   "source": [
    "test.isEmpty()"
   ]
  },
  {
   "cell_type": "code",
   "execution_count": 4,
   "metadata": {},
   "outputs": [
    {
     "name": "stdout",
     "output_type": "stream",
     "text": [
      "overFlow\n",
      "overFlow\n",
      "overFlow\n"
     ]
    }
   ],
   "source": [
    "test.push(1)\n",
    "test.push(2)\n",
    "test.push(3)"
   ]
  },
  {
   "cell_type": "code",
   "execution_count": 5,
   "metadata": {},
   "outputs": [
    {
     "name": "stdout",
     "output_type": "stream",
     "text": [
      "underflow\n"
     ]
    }
   ],
   "source": [
    "test.peek()"
   ]
  },
  {
   "cell_type": "code",
   "execution_count": 6,
   "metadata": {},
   "outputs": [
    {
     "data": {
      "text/plain": [
       "0"
      ]
     },
     "execution_count": 6,
     "metadata": {},
     "output_type": "execute_result"
    }
   ],
   "source": [
    "test.size()"
   ]
  },
  {
   "cell_type": "code",
   "execution_count": 7,
   "metadata": {},
   "outputs": [
    {
     "name": "stdout",
     "output_type": "stream",
     "text": [
      "underflow\n"
     ]
    }
   ],
   "source": [
    "test.pop()"
   ]
  },
  {
   "cell_type": "code",
   "execution_count": 8,
   "metadata": {},
   "outputs": [
    {
     "data": {
      "text/plain": [
       "0"
      ]
     },
     "execution_count": 8,
     "metadata": {},
     "output_type": "execute_result"
    }
   ],
   "source": [
    "test.size()"
   ]
  },
  {
   "cell_type": "code",
   "execution_count": 3,
   "metadata": {},
   "outputs": [],
   "source": [
    "# stack\n",
    "\n",
    "class Stack:\n",
    "    def __init__(self,limit=10):\n",
    "        self.stack=[]\n",
    "        self.limit=limit\n",
    "    def isEmpaty(self):\n",
    "        if len(self.stack)<=0:\n",
    "            return \"stack is empaty\"\n",
    "        else:\n",
    "            return False\n",
    "    def push(self,data):\n",
    "        if len(self.stack)>=self.limit:\n",
    "            return \"stack is overflow\"\n",
    "        else:\n",
    "            return self.stack.append(data)\n",
    "    def pop(self):\n",
    "        if len(self.stack)<=0:\n",
    "            return \"stack is empty or underflow\"\n",
    "        else:\n",
    "            return self.stack.pop()\n",
    "    def peek(self):\n",
    "        if len(self.stack)<=0:\n",
    "            return \"stack is empty\"\n",
    "        else:\n",
    "            return self.stack[-1]\n",
    "    def size(self):\n",
    "        return len(self.stack)"
   ]
  },
  {
   "cell_type": "code",
   "execution_count": 7,
   "metadata": {},
   "outputs": [
    {
     "name": "stdout",
     "output_type": "stream",
     "text": [
      "stack is empaty\n",
      "None\n",
      "None\n",
      "None\n",
      "None\n",
      "None\n",
      "None\n",
      "None\n",
      "None\n",
      "8\n"
     ]
    }
   ],
   "source": [
    "s=Stack()\n",
    "print(s.isEmpaty())\n",
    "print(s.push('a'))\n",
    "print(s.push('b'))\n",
    "print(s.push('c'))\n",
    "print(s.push('d'))\n",
    "print(s.push('e'))\n",
    "print(s.push('f'))\n",
    "print(s.push('g'))\n",
    "print(s.push('h'))\n",
    "print(s.size())"
   ]
  },
  {
   "cell_type": "code",
   "execution_count": 9,
   "metadata": {},
   "outputs": [
    {
     "data": {
      "text/plain": [
       "'h'"
      ]
     },
     "execution_count": 9,
     "metadata": {},
     "output_type": "execute_result"
    }
   ],
   "source": [
    "s.peek()"
   ]
  },
  {
   "cell_type": "code",
   "execution_count": 12,
   "metadata": {},
   "outputs": [
    {
     "data": {
      "text/plain": [
       "'d'"
      ]
     },
     "execution_count": 12,
     "metadata": {},
     "output_type": "execute_result"
    }
   ],
   "source": [
    "s.pop()\n",
    "s.pop()"
   ]
  },
  {
   "cell_type": "code",
   "execution_count": 13,
   "metadata": {},
   "outputs": [
    {
     "data": {
      "text/plain": [
       "'c'"
      ]
     },
     "execution_count": 13,
     "metadata": {},
     "output_type": "execute_result"
    }
   ],
   "source": [
    "s.peek()"
   ]
  },
  {
   "cell_type": "markdown",
   "metadata": {},
   "source": [
    "# Dynamic Array"
   ]
  },
  {
   "cell_type": "code",
   "execution_count": 54,
   "metadata": {},
   "outputs": [],
   "source": [
    "class Stack(object):\n",
    "    def __init__(self,limit=10):\n",
    "        self.stk=[]\n",
    "        self.limit=limit\n",
    "    \n",
    "    def isEmpty(self):\n",
    "        return len(self.stk)<0\n",
    "    \n",
    "    def push(self,item):\n",
    "        if len(self.stk)>=self.limit:\n",
    "            print(\"Overflow\")\n",
    "        else:\n",
    "            return self.stk.append(item)\n",
    "    def pop(self):\n",
    "        if len(self.stk<0):\n",
    "            print(\"underflow\")\n",
    "        else:\n",
    "            return self.stk.pop()\n",
    "    def peek(self):\n",
    "        return self.stk[-1]\n",
    "    def size(self):\n",
    "        return len(self.stk)\n",
    "    def resize(self):\n",
    "        newstk=list(self.stk)\n",
    "        self.limit=2*self.limit\n",
    "        self.stk=newstk"
   ]
  },
  {
   "cell_type": "code",
   "execution_count": 55,
   "metadata": {},
   "outputs": [],
   "source": [
    "test2=Stack()"
   ]
  },
  {
   "cell_type": "code",
   "execution_count": 56,
   "metadata": {},
   "outputs": [
    {
     "data": {
      "text/plain": [
       "False"
      ]
     },
     "execution_count": 56,
     "metadata": {},
     "output_type": "execute_result"
    }
   ],
   "source": [
    "test2.isEmpty()"
   ]
  },
  {
   "cell_type": "code",
   "execution_count": 58,
   "metadata": {},
   "outputs": [],
   "source": [
    "test2.push(1)\n",
    "test2.push(2)\n",
    "test2.push(3)\n",
    "test2.push(4)\n",
    "test2.push(5)"
   ]
  },
  {
   "cell_type": "code",
   "execution_count": 59,
   "metadata": {},
   "outputs": [
    {
     "name": "stdout",
     "output_type": "stream",
     "text": [
      "Overflow\n"
     ]
    }
   ],
   "source": [
    "test2.push(11)"
   ]
  },
  {
   "cell_type": "code",
   "execution_count": 60,
   "metadata": {},
   "outputs": [
    {
     "data": {
      "text/plain": [
       "10"
      ]
     },
     "execution_count": 60,
     "metadata": {},
     "output_type": "execute_result"
    }
   ],
   "source": [
    "test2.size()"
   ]
  },
  {
   "cell_type": "code",
   "execution_count": 61,
   "metadata": {},
   "outputs": [],
   "source": [
    "test2.resize()"
   ]
  },
  {
   "cell_type": "code",
   "execution_count": 63,
   "metadata": {},
   "outputs": [],
   "source": [
    "test2.push(1)"
   ]
  },
  {
   "cell_type": "code",
   "execution_count": 65,
   "metadata": {},
   "outputs": [
    {
     "name": "stdout",
     "output_type": "stream",
     "text": [
      "Overflow\n",
      "Overflow\n",
      "Overflow\n"
     ]
    }
   ],
   "source": [
    "test2.push(1)\n",
    "test2.push(1)\n",
    "test2.push(1)\n",
    "test2.push(1)\n",
    "test2.push(1)\n",
    "test2.push(1)"
   ]
  },
  {
   "cell_type": "code",
   "execution_count": 66,
   "metadata": {},
   "outputs": [
    {
     "data": {
      "text/plain": [
       "20"
      ]
     },
     "execution_count": 66,
     "metadata": {},
     "output_type": "execute_result"
    }
   ],
   "source": [
    "test2.size()"
   ]
  },
  {
   "cell_type": "code",
   "execution_count": null,
   "metadata": {},
   "outputs": [],
   "source": []
  }
 ],
 "metadata": {
  "kernelspec": {
   "display_name": "Python 3",
   "language": "python",
   "name": "python3"
  },
  "language_info": {
   "codemirror_mode": {
    "name": "ipython",
    "version": 3
   },
   "file_extension": ".py",
   "mimetype": "text/x-python",
   "name": "python",
   "nbconvert_exporter": "python",
   "pygments_lexer": "ipython3",
   "version": "3.7.6"
  }
 },
 "nbformat": 4,
 "nbformat_minor": 4
}
