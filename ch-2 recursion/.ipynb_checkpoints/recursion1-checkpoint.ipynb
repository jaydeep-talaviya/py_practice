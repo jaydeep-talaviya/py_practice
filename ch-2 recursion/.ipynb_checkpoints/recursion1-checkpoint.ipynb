{
 "cells": [
  {
   "cell_type": "code",
   "execution_count": 2,
   "metadata": {},
   "outputs": [],
   "source": [
    "def TowerOfHanoi(numberOfDisks,startPeg=1,endPeg=3):\n",
    "    if numberOfDisks:\n",
    "        TowerOfHanoi(numberOfDisks-1,startPeg,6-startPeg-endPeg)\n",
    "        print(\"Move disk %d from %d to peg %d\"%(numberOfDisks,startPeg,endPeg))\n",
    "        TowerOfHanoi(numberOfDisks-1,6-startPeg-endPeg,endPeg)\n"
   ]
  },
  {
   "cell_type": "code",
   "execution_count": 3,
   "metadata": {},
   "outputs": [
    {
     "name": "stdout",
     "output_type": "stream",
     "text": [
      "Move disk 1 from 1 to peg 2\n",
      "Move disk 2 from 1 to peg 3\n",
      "Move disk 1 from 2 to peg 3\n",
      "Move disk 3 from 1 to peg 2\n",
      "Move disk 1 from 3 to peg 1\n",
      "Move disk 2 from 3 to peg 2\n",
      "Move disk 1 from 1 to peg 2\n",
      "Move disk 4 from 1 to peg 3\n",
      "Move disk 1 from 2 to peg 3\n",
      "Move disk 2 from 2 to peg 1\n",
      "Move disk 1 from 3 to peg 1\n",
      "Move disk 3 from 2 to peg 3\n",
      "Move disk 1 from 1 to peg 2\n",
      "Move disk 2 from 1 to peg 3\n",
      "Move disk 1 from 2 to peg 3\n"
     ]
    }
   ],
   "source": [
    "TowerOfHanoi(numberOfDisks=4)"
   ]
  },
  {
   "cell_type": "code",
   "execution_count": 25,
   "metadata": {},
   "outputs": [],
   "source": [
    "def appendAtBegginigFront(x,L):\n",
    "#     print(x,L)\n",
    "    return [x+element for element in L]\n",
    "# a='0'\n",
    "# for i in ['0','1']:\n",
    "#     print(a+i)\n",
    "# >>>00\n",
    "# >>>01"
   ]
  },
  {
   "cell_type": "code",
   "execution_count": 26,
   "metadata": {},
   "outputs": [],
   "source": [
    "def bitString(n):\n",
    "    if n==0:\n",
    "        return []\n",
    "    if n==1:\n",
    "        return [\"0\",\"1\"]\n",
    "    else:\n",
    "        return (appendAtBegginigFront('0',bitString(n-1))+appendAtBegginigFront(\"1\",bitString(n-1)))\n",
    "    print(bitString(4))"
   ]
  },
  {
   "cell_type": "code",
   "execution_count": 29,
   "metadata": {},
   "outputs": [],
   "source": [
    "# print(bitString(2))"
   ]
  },
  {
   "cell_type": "code",
   "execution_count": 30,
   "metadata": {},
   "outputs": [],
   "source": [
    "# a='0'\n",
    "# for i in ['0','1']:\n",
    "#     print(a+i)"
   ]
  },
  {
   "cell_type": "code",
   "execution_count": null,
   "metadata": {},
   "outputs": [],
   "source": []
  }
 ],
 "metadata": {
  "kernelspec": {
   "display_name": "Python 3",
   "language": "python",
   "name": "python3"
  },
  "language_info": {
   "codemirror_mode": {
    "name": "ipython",
    "version": 3
   },
   "file_extension": ".py",
   "mimetype": "text/x-python",
   "name": "python",
   "nbconvert_exporter": "python",
   "pygments_lexer": "ipython3",
   "version": "3.6.7"
  }
 },
 "nbformat": 4,
 "nbformat_minor": 4
}
