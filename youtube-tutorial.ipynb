{
 "cells": [
  {
   "cell_type": "code",
   "execution_count": 3,
   "metadata": {},
   "outputs": [
    {
     "name": "stdout",
     "output_type": "stream",
     "text": [
      "*****\n",
      "   *\n",
      "  *\n",
      " *\n",
      "*****\n"
     ]
    }
   ],
   "source": [
    "# 1) print Z\n",
    "\n",
    "\n",
    "for i in range(1,6):\n",
    "    if i == 1 or i == 5:\n",
    "        print(\"*\"*(6-1))\n",
    "    else:\n",
    "        print(\" \"*(6-i-2),\"*\")"
   ]
  },
  {
   "cell_type": "code",
   "execution_count": null,
   "metadata": {},
   "outputs": [],
   "source": []
  },
  {
   "cell_type": "code",
   "execution_count": null,
   "metadata": {},
   "outputs": [],
   "source": []
  },
  {
   "cell_type": "code",
   "execution_count": 12,
   "metadata": {},
   "outputs": [
    {
     "data": {
      "text/plain": [
       "1"
      ]
     },
     "execution_count": 12,
     "metadata": {},
     "output_type": "execute_result"
    }
   ],
   "source": [
    "4%3"
   ]
  },
  {
   "cell_type": "code",
   "execution_count": null,
   "metadata": {},
   "outputs": [],
   "source": [
    "# what is prime number\n",
    "# a number that can be divide by it self and 1.\n"
   ]
  },
  {
   "cell_type": "code",
   "execution_count": 1,
   "metadata": {},
   "outputs": [],
   "source": [
    "def check_prime(num):\n",
    "    prime_count=0\n",
    "    for i in range(1,num+1):\n",
    "        if num%i==0:\n",
    "            prime_count+=1\n",
    "            \n",
    "    return True if prime_count == 2 else False"
   ]
  },
  {
   "cell_type": "code",
   "execution_count": 2,
   "metadata": {},
   "outputs": [
    {
     "data": {
      "text/plain": [
       "False"
      ]
     },
     "execution_count": 2,
     "metadata": {},
     "output_type": "execute_result"
    }
   ],
   "source": [
    "check_prime(4)"
   ]
  },
  {
   "cell_type": "code",
   "execution_count": 3,
   "metadata": {},
   "outputs": [
    {
     "data": {
      "text/plain": [
       "True"
      ]
     },
     "execution_count": 3,
     "metadata": {},
     "output_type": "execute_result"
    }
   ],
   "source": [
    "check_prime(3)"
   ]
  },
  {
   "cell_type": "code",
   "execution_count": 4,
   "metadata": {},
   "outputs": [
    {
     "data": {
      "text/plain": [
       "True"
      ]
     },
     "execution_count": 4,
     "metadata": {},
     "output_type": "execute_result"
    }
   ],
   "source": [
    "check_prime(2)"
   ]
  },
  {
   "cell_type": "code",
   "execution_count": 21,
   "metadata": {},
   "outputs": [
    {
     "name": "stdout",
     "output_type": "stream",
     "text": [
      "Enter Low Num7\n",
      "Enter High Num24\n",
      "7\n",
      "11\n",
      "13\n",
      "17\n",
      "19\n",
      "23\n"
     ]
    }
   ],
   "source": [
    "# get printed prime number\n",
    "\n",
    "low=int(input(\"Enter Low Num\"))\n",
    "high=int(input(\"Enter High Num\"))\n",
    "\n",
    "def get_printed(low,high):\n",
    "    for i in range(low,high+1):\n",
    "        prime_count=0\n",
    "        for j in range(1,i+1):\n",
    "            if i%j==0:\n",
    "                prime_count+=1\n",
    "        if prime_count == 2:\n",
    "            print(i)\n",
    "\n",
    "get_printed(low,high)"
   ]
  },
  {
   "cell_type": "code",
   "execution_count": 6,
   "metadata": {},
   "outputs": [
    {
     "name": "stdout",
     "output_type": "stream",
     "text": [
      "0\n",
      "1\n",
      "1\n",
      "2\n",
      "3\n"
     ]
    }
   ],
   "source": [
    "# print fibonacci num\n",
    "\n",
    "def get_fibonacci(n):\n",
    "    first =0\n",
    "    second =1\n",
    "    for i in range(n):\n",
    "        print(first)\n",
    "        third = first+second\n",
    "        first = second\n",
    "        second = third\n",
    "get_fibonacci(5)"
   ]
  },
  {
   "cell_type": "code",
   "execution_count": 22,
   "metadata": {},
   "outputs": [
    {
     "name": "stdout",
     "output_type": "stream",
     "text": [
      "3\n",
      "4\n",
      "1\n"
     ]
    }
   ],
   "source": [
    "# check how many digits in number\n",
    "# e.g. 134 -> 3\n",
    "\n",
    "def calculate_len(num):\n",
    "    count = 0\n",
    "    while num != 0:\n",
    "        num = num//10\n",
    "        count+=1\n",
    "    return count\n",
    "print(calculate_len(110))\n",
    "print(calculate_len(1102))\n",
    "print(calculate_len(1))"
   ]
  },
  {
   "cell_type": "code",
   "execution_count": 109,
   "metadata": {
    "scrolled": true
   },
   "outputs": [
    {
     "name": "stdout",
     "output_type": "stream",
     "text": [
      "4\n",
      "3\n",
      "4\n",
      "2\n"
     ]
    }
   ],
   "source": [
    "# print numbers from left to right\n",
    "import math\n",
    "def print_left_to_right(num):\n",
    "    length = int(math.log10(num)+1)\n",
    "    count=0\n",
    "    while num!=0:\n",
    "        count+=1\n",
    "        print(num//(10**(length-count)))\n",
    "        num = num%(10**(length-count))\n",
    "print_left_to_right(4342)"
   ]
  },
  {
   "cell_type": "code",
   "execution_count": 124,
   "metadata": {},
   "outputs": [
    {
     "name": "stdout",
     "output_type": "stream",
     "text": [
      "2\n",
      "4\n",
      "3\n",
      "4\n"
     ]
    }
   ],
   "source": [
    "# print numbers from right to left\n",
    "import math\n",
    "def print_right_to_left(num):\n",
    "    count=0\n",
    "    while num!=0:\n",
    "        print(num%10)\n",
    "        num=num//10\n",
    "print_right_to_left(4342)"
   ]
  },
  {
   "cell_type": "code",
   "execution_count": 128,
   "metadata": {},
   "outputs": [],
   "source": [
    "# return inverse number\n",
    "# eg. -> 23541\n",
    "# ans -> 14532\n",
    "\n",
    "def inverse_number(num):\n",
    "    length=int(math.log10(num)+1)\n",
    "    inverse=0\n",
    "    counter = 0\n",
    "    while num!=0:\n",
    "        counter+=1\n",
    "        inverse+=(num%10)*(10**(length-counter))\n",
    "        num=num//10\n",
    "    return inverse"
   ]
  },
  {
   "cell_type": "code",
   "execution_count": 129,
   "metadata": {},
   "outputs": [
    {
     "data": {
      "text/plain": [
       "14532"
      ]
     },
     "execution_count": 129,
     "metadata": {},
     "output_type": "execute_result"
    }
   ],
   "source": [
    "inverse_number(23541)"
   ]
  },
  {
   "cell_type": "code",
   "execution_count": 130,
   "metadata": {},
   "outputs": [
    {
     "data": {
      "text/plain": [
       "12534"
      ]
     },
     "execution_count": 130,
     "metadata": {},
     "output_type": "execute_result"
    }
   ],
   "source": [
    "inverse_number(43521)"
   ]
  },
  {
   "cell_type": "code",
   "execution_count": 134,
   "metadata": {},
   "outputs": [
    {
     "data": {
      "text/plain": [
       "521"
      ]
     },
     "execution_count": 134,
     "metadata": {},
     "output_type": "execute_result"
    }
   ],
   "source": [
    "43521%1000"
   ]
  },
  {
   "cell_type": "code",
   "execution_count": 147,
   "metadata": {},
   "outputs": [
    {
     "data": {
      "text/plain": [
       "52143"
      ]
     },
     "execution_count": 147,
     "metadata": {},
     "output_type": "execute_result"
    }
   ],
   "source": [
    "# rotate by n numbers\n",
    "\n",
    "def rotate_numbers(num,d):\n",
    "    length = int(math.log10(num)+1)\n",
    "    right = num//(10**(length-d))\n",
    "    left = num%(10**(length-d))\n",
    "    return left*(10**d)+right\n",
    "\n",
    "rotate_numbers(43521,2)"
   ]
  },
  {
   "cell_type": "code",
   "execution_count": 170,
   "metadata": {},
   "outputs": [],
   "source": [
    "#  find GCD and LCD\n",
    "\n",
    "def get_gcd(num1,num2):\n",
    "    greatest = num1 if num1 > num2 else num2\n",
    "    least = num2 if num1 > num2 else num1    \n",
    "    while (greatest%least)!=0:\n",
    "        reminder = greatest%least\n",
    "        greatest = least\n",
    "        least = reminder\n",
    "    lcm =(num1*num2)//reminder\n",
    "    return reminder,lcm"
   ]
  },
  {
   "cell_type": "code",
   "execution_count": 171,
   "metadata": {},
   "outputs": [
    {
     "data": {
      "text/plain": [
       "(12, 72)"
      ]
     },
     "execution_count": 171,
     "metadata": {},
     "output_type": "execute_result"
    }
   ],
   "source": [
    "get_gcd(36,24)"
   ]
  },
  {
   "cell_type": "code",
   "execution_count": 172,
   "metadata": {},
   "outputs": [
    {
     "data": {
      "text/plain": [
       "(3, 18)"
      ]
     },
     "execution_count": 172,
     "metadata": {},
     "output_type": "execute_result"
    }
   ],
   "source": [
    "get_gcd(6,9)"
   ]
  },
  {
   "cell_type": "code",
   "execution_count": 188,
   "metadata": {},
   "outputs": [
    {
     "data": {
      "text/plain": [
       "'1x2x3'"
      ]
     },
     "execution_count": 188,
     "metadata": {},
     "output_type": "execute_result"
    }
   ],
   "source": [
    "# prime factorize number\n",
    "# eg. -> 12-> 2*2*3\n",
    "\n",
    "def get_prime_factorized_num(num):\n",
    "    current_prime=2\n",
    "    prime_factor = f'{1}'\n",
    "    while num!=1:\n",
    "        if num%current_prime == 0:\n",
    "            prime_factor+=f\"x{current_prime}\"\n",
    "            num=num//current_prime\n",
    "        else:\n",
    "            current_prime+=1\n",
    "    return prime_factor\n",
    "\n",
    "get_prime_factorized_num(6)"
   ]
  },
  {
   "cell_type": "code",
   "execution_count": 189,
   "metadata": {},
   "outputs": [
    {
     "data": {
      "text/plain": [
       "'1x2x2x3'"
      ]
     },
     "execution_count": 189,
     "metadata": {},
     "output_type": "execute_result"
    }
   ],
   "source": [
    "get_prime_factorized_num(12)"
   ]
  },
  {
   "cell_type": "code",
   "execution_count": 190,
   "metadata": {},
   "outputs": [
    {
     "data": {
      "text/plain": [
       "'1x2x2x2x2x2x3x3x5'"
      ]
     },
     "execution_count": 190,
     "metadata": {},
     "output_type": "execute_result"
    }
   ],
   "source": [
    "get_prime_factorized_num(1440)"
   ]
  },
  {
   "cell_type": "code",
   "execution_count": 205,
   "metadata": {},
   "outputs": [],
   "source": [
    "# check that numbers can make Pythagorean theorem or not\n",
    "# e.g. 3**2+4**2=5**2\n",
    "\n",
    "\n",
    "def check_pythagorean(a,b,c):\n",
    "    num1,num2,num3 = 0,0,0\n",
    "    if a > b and a>c:\n",
    "        num1=a\n",
    "        if b > c:\n",
    "            num2=b\n",
    "            num3=c\n",
    "        else:\n",
    "            num2=c\n",
    "            num3=b\n",
    "\n",
    "    elif b > a and b >c:\n",
    "        num1 = b\n",
    "        if a > c:\n",
    "            num2 = a\n",
    "            num3=c\n",
    "        else:\n",
    "            num2 = c\n",
    "            num3=a\n",
    "\n",
    "    elif c > a and c > b:\n",
    "        num1 = c\n",
    "        if b > a:\n",
    "            num2 = b\n",
    "            num3=a\n",
    "        else:\n",
    "            num2 = a\n",
    "            num3=b\n",
    "\n",
    "    print(num1,num2,num3)\n",
    "    return (num2**2+num3**2 == num1**2)"
   ]
  },
  {
   "cell_type": "code",
   "execution_count": 206,
   "metadata": {},
   "outputs": [
    {
     "name": "stdout",
     "output_type": "stream",
     "text": [
      "5 4 3\n"
     ]
    },
    {
     "data": {
      "text/plain": [
       "True"
      ]
     },
     "execution_count": 206,
     "metadata": {},
     "output_type": "execute_result"
    }
   ],
   "source": [
    "check_pythagorean(3,4,5)"
   ]
  },
  {
   "cell_type": "code",
   "execution_count": 207,
   "metadata": {},
   "outputs": [
    {
     "name": "stdout",
     "output_type": "stream",
     "text": [
      "17 14 13\n"
     ]
    },
    {
     "data": {
      "text/plain": [
       "False"
      ]
     },
     "execution_count": 207,
     "metadata": {},
     "output_type": "execute_result"
    }
   ],
   "source": [
    "check_pythagorean(13,15,1)"
   ]
  },
  {
   "cell_type": "code",
   "execution_count": 211,
   "metadata": {},
   "outputs": [
    {
     "name": "stdout",
     "output_type": "stream",
     "text": [
      "13 12 5\n"
     ]
    },
    {
     "data": {
      "text/plain": [
       "True"
      ]
     },
     "execution_count": 211,
     "metadata": {},
     "output_type": "execute_result"
    }
   ],
   "source": [
    "check_pythagorean(5,12,13)"
   ]
  },
  {
   "cell_type": "code",
   "execution_count": 311,
   "metadata": {},
   "outputs": [],
   "source": [
    "# print benjamin bulbs > toggling bulbs\n",
    "\n",
    "def get_benjamin_bulbs(num):\n",
    "    for i in range(1,num+1):\n",
    "        if i*i < num:\n",
    "            print(i*i)"
   ]
  },
  {
   "cell_type": "code",
   "execution_count": 313,
   "metadata": {},
   "outputs": [
    {
     "name": "stdout",
     "output_type": "stream",
     "text": [
      "1\n",
      "4\n",
      "9\n",
      "16\n"
     ]
    }
   ],
   "source": [
    "get_benjamin_bulbs(20)"
   ]
  },
  {
   "cell_type": "code",
   "execution_count": 318,
   "metadata": {},
   "outputs": [
    {
     "name": "stdout",
     "output_type": "stream",
     "text": [
      "*      \n",
      "* *     \n",
      "* * *    \n",
      "* * * *   \n",
      "* * * * *  \n",
      "*       \n",
      "* *      \n",
      "* * *     \n",
      "* * * *    \n",
      "* * * * *   \n",
      "* * * * * *  \n"
     ]
    }
   ],
   "source": [
    "### patterns\n",
    "\n",
    "# *\n",
    "# * *\n",
    "# * * *\n",
    "# * * * *\n",
    "# * * * * *\n",
    "\n",
    "def get_pattern1(num):\n",
    "    for i in range(1,num+1):\n",
    "        print(\"* \"*(i),\" \"*(num-i))\n",
    "        \n",
    "get_pattern1(5)\n",
    "get_pattern1(6)"
   ]
  },
  {
   "cell_type": "code",
   "execution_count": 319,
   "metadata": {},
   "outputs": [
    {
     "name": "stdout",
     "output_type": "stream",
     "text": [
      "* * * * *  \n",
      "* * * *   \n",
      "* * *    \n",
      "* *     \n",
      "*      \n",
      "* * * * * *  \n",
      "* * * * *   \n",
      "* * * *    \n",
      "* * *     \n",
      "* *      \n",
      "*       \n"
     ]
    }
   ],
   "source": [
    "### pattern2\n",
    "\n",
    "# * * * * *\n",
    "# * * * *\n",
    "# * * *\n",
    "# * * \n",
    "# * \n",
    "\n",
    "def get_pattern2(num):\n",
    "    for i in range(0,num):\n",
    "        print(\"* \"*(num-i),\" \"*(i))\n",
    "        \n",
    "get_pattern2(5)\n",
    "get_pattern2(6)"
   ]
  },
  {
   "cell_type": "code",
   "execution_count": 324,
   "metadata": {},
   "outputs": [
    {
     "name": "stdout",
     "output_type": "stream",
     "text": [
      "  * * * * *\n",
      "    * * * *\n",
      "      * * *\n",
      "        * *\n",
      "          *\n"
     ]
    }
   ],
   "source": [
    "# pattern 3\n",
    "#   * * * * *\n",
    "#     * * * *\n",
    "#       * * *\n",
    "#         * *\n",
    "#           *\n",
    "\n",
    "def get_pattern3(num):\n",
    "    for i in range(0,num):\n",
    "        print(\" \"*(i*2),\" *\"*(num-i))\n",
    "\n",
    "get_pattern3(5)"
   ]
  },
  {
   "cell_type": "code",
   "execution_count": 343,
   "metadata": {},
   "outputs": [
    {
     "name": "stdout",
     "output_type": "stream",
     "text": [
      "         \n",
      "        *\n",
      "      * *\n",
      "    * * *\n",
      "  * * * *\n"
     ]
    }
   ],
   "source": [
    "# pattern 4\n",
    "#         *\n",
    "#       * *\n",
    "#     * * *\n",
    "#   * * * *\n",
    "\n",
    "\n",
    "\n",
    "def get_pattern4(num):\n",
    "    for i in range(0,num):\n",
    "        print(\" \"*((num-1)*2-i*2),\" *\"*(i))\n",
    "\n",
    "get_pattern4(5)"
   ]
  },
  {
   "cell_type": "code",
   "execution_count": 530,
   "metadata": {},
   "outputs": [
    {
     "name": "stdout",
     "output_type": "stream",
     "text": [
      "       *\n",
      "     * * *\n",
      "   * * * * *\n",
      "     * * *\n",
      "       *\n"
     ]
    }
   ],
   "source": [
    "# pattern 4\n",
    "#       *\n",
    "#     * * *\n",
    "#   * * * * *\n",
    "#     * * *\n",
    "#       *\n",
    "\n",
    "\n",
    "def get_pattern5(num):\n",
    "\n",
    "    half=(num//2)+1\n",
    "    i=1\n",
    "    while num !=0:\n",
    "        print(\" \"*(half*2-(i)),\" *\"*(i))\n",
    "#         print(num,i)\n",
    "        if num > half:\n",
    "            i+=2\n",
    "        else:\n",
    "            i-=2\n",
    "        num-=1\n",
    "    \n",
    "get_pattern5(5)"
   ]
  },
  {
   "cell_type": "code",
   "execution_count": 553,
   "metadata": {},
   "outputs": [
    {
     "name": "stdout",
     "output_type": "stream",
     "text": [
      "***_***\n",
      "**___**\n",
      "*_____*\n",
      "**___**\n",
      "***_***\n"
     ]
    }
   ],
   "source": [
    "# pattern\n",
    "\n",
    "# ***_***\n",
    "# **___**\n",
    "# *_____*\n",
    "# **___**\n",
    "# ***_***\n",
    "num = 5\n",
    "\n",
    "step=1\n",
    "for i in range(0,num):\n",
    "    half = num//2+1\n",
    "    k=num%(i+1)\n",
    "    print(\"*\"*(half-k)+\"_\"*step+\"*\"*(half-k))\n",
    "    if i < half-1:\n",
    "        step+=2\n",
    "    else:\n",
    "        step-=2"
   ]
  },
  {
   "cell_type": "code",
   "execution_count": 631,
   "metadata": {},
   "outputs": [
    {
     "name": "stdout",
     "output_type": "stream",
     "text": [
      "*\n",
      "  *\n",
      "    *\n",
      "      *\n",
      "        *\n"
     ]
    }
   ],
   "source": [
    "# pattern \n",
    "# *\n",
    "#  *\n",
    "#   *\n",
    "#    *\n",
    "#     *\n",
    "\n",
    "num=5\n",
    "for i in range(0,num):\n",
    "    print(\" \"*i*2+\"*\"*1)"
   ]
  },
  {
   "cell_type": "code",
   "execution_count": 632,
   "metadata": {},
   "outputs": [
    {
     "name": "stdout",
     "output_type": "stream",
     "text": [
      "          *\n",
      "        *\n",
      "      *\n",
      "    *\n",
      "  *\n"
     ]
    }
   ],
   "source": [
    "# pattern \n",
    "#      *\n",
    "#     *\n",
    "#    * \n",
    "#   *\n",
    "#  *\n",
    "\n",
    "num=5\n",
    "for i in range(0,num):\n",
    "    print(\" \"*(num*2-i*2)+\"*\"*1)"
   ]
  },
  {
   "cell_type": "code",
   "execution_count": 634,
   "metadata": {},
   "outputs": [
    {
     "name": "stdout",
     "output_type": "stream",
     "text": [
      "*         *\n",
      " *       *\n",
      "  *     *\n",
      "   *   *\n",
      "    * *\n",
      "     *\n",
      "    * *\n",
      "   *   *\n",
      "  *     *\n",
      " *       *\n",
      "*         *\n"
     ]
    }
   ],
   "source": [
    "# pattern\n",
    "# *   *\n",
    "#  * *\n",
    "#   *\n",
    "#  * *\n",
    "# *   *\n",
    "\n",
    "num =11\n",
    "step = num-2\n",
    "step2 = 0\n",
    "\n",
    "for i in range(0,num):\n",
    "    half = num//2\n",
    "    print(\" \"*(step2)+\"*\"+\" \"*(step)+(\"*\" if i != half else \"\"))\n",
    "    if i < half:\n",
    "        step-=2\n",
    "        step2 +=1 \n",
    "    elif i == half:\n",
    "        step =1\n",
    "        step2 -=1\n",
    "    else:\n",
    "        step+=2\n",
    "        step2 -=1\n",
    "    \n",
    "    "
   ]
  },
  {
   "cell_type": "code",
   "execution_count": 692,
   "metadata": {},
   "outputs": [
    {
     "name": "stdout",
     "output_type": "stream",
     "text": [
      "4\n",
      "    *\n",
      "3\n",
      "   *_*\n",
      "2\n",
      "  *__*\n",
      "1\n",
      " *___*\n",
      "2\n",
      "  *__*\n",
      "3\n",
      "   *_*\n",
      "4\n",
      "    *\n"
     ]
    }
   ],
   "source": [
    "# pattern 10\n",
    "#   *  \n",
    "#  * *\n",
    "# *   *\n",
    "#  * *\n",
    "#   *5\n",
    "\n",
    "num=7\n",
    "i=0\n",
    "step=0\n",
    "half=num//2+1\n",
    "step2=half\n",
    "while i < num:\n",
    "    print(half-step)\n",
    "    i+=1\n",
    "    print(\" \"*(half-step)+\"*\"+\"_\"*(half-step2)+(\"*\" if i not in [1,num] else \"\"))\n",
    "    if i < half:\n",
    "        step+=1\n",
    "        step2+=1\n",
    "    else:\n",
    "        step-=1\n",
    "        \n",
    "    "
   ]
  },
  {
   "cell_type": "code",
   "execution_count": null,
   "metadata": {},
   "outputs": [],
   "source": [
    "123*567   0\n",
    "12*3*67     1\n",
    "1*345*7   3\n",
    "*     *   5\n",
    " *   *    3\n",
    "  * *     1\n",
    "   *      0"
   ]
  },
  {
   "cell_type": "code",
   "execution_count": 879,
   "metadata": {},
   "outputs": [
    {
     "name": "stdout",
     "output_type": "stream",
     "text": [
      "  *  \n",
      " *** \n",
      "*****\n",
      " *** \n",
      "  *  \n",
      "  1  \n",
      " 111 \n",
      "11111\n",
      " 111 \n",
      "  1  \n",
      "  1  \n",
      " 222 \n",
      "33333\n",
      " 444 \n",
      "  5  \n",
      "  1  \n",
      " 222 \n",
      "33333\n",
      " 222 \n",
      "  1  \n",
      "  1  \n",
      " 232 \n",
      "34543\n",
      " 232 \n",
      "  1  \n"
     ]
    }
   ],
   "source": [
    "# pattern 15\n",
    "\n",
    "#     1\n",
    "#   2 3 2\n",
    "# 3 4 5 4 3\n",
    "#   2 3 2 \n",
    "#     1\n",
    "\n",
    "# step 1\n",
    "\n",
    "half = num//2+1\n",
    "step = 0\n",
    "for i in range(1,num+1):\n",
    "    for j in range(1,num+1):\n",
    "        if half-step <=j<= half+step:\n",
    "            print(\"*\",end=\"\")\n",
    "        else:\n",
    "            print(\" \",end=\"\")\n",
    "    print()\n",
    "    if i < half:\n",
    "        step+=1\n",
    "    else:\n",
    "        step-=1\n",
    "        \n",
    "# step 2 * -> 1\n",
    "half = num//2+1\n",
    "step = 0\n",
    "for i in range(1,num+1):\n",
    "    for j in range(1,num+1):\n",
    "        if half-step <=j<= half+step:\n",
    "            print(\"1\",end=\"\")\n",
    "        else:\n",
    "            print(\" \",end=\"\")\n",
    "    print()\n",
    "    if i < half:\n",
    "        step+=1\n",
    "    else:\n",
    "        step-=1\n",
    "        \n",
    "# step 3 1 ->  i\n",
    "half = num//2+1\n",
    "step = 0\n",
    "for i in range(1,num+1):\n",
    "    for j in range(1,num+1):\n",
    "        if half-step <=j<= half+step:\n",
    "            print(i,end=\"\")\n",
    "        else:\n",
    "            print(\" \",end=\"\")\n",
    "    print()\n",
    "    if i < half:\n",
    "        step+=1\n",
    "    else:\n",
    "        step-=1\n",
    "        \n",
    "# step 4  dynamic -1\n",
    "\n",
    "half = num//2+1\n",
    "step = 0\n",
    "for i in range(1,num+1):\n",
    "    for j in range(1,num+1):\n",
    "        if half-step <=j<= half+step:\n",
    "            print(step+1,end=\"\")\n",
    "        else:\n",
    "            print(\" \",end=\"\")\n",
    "    print()\n",
    "    if i < half:\n",
    "        step+=1\n",
    "    else:\n",
    "        step-=1\n",
    "        \n",
    "# step 5  dynamic -2\n",
    "\n",
    "half = num//2+1\n",
    "step = 0\n",
    "for i in range(1,num+1):\n",
    "    counter =0\n",
    "    for j in range(1,num+1):\n",
    "        if half-step <=j<= half+step:\n",
    "            print(step+1+counter,end=\"\")\n",
    "            if j < half:\n",
    "                counter+=1\n",
    "            else:\n",
    "                counter-=1\n",
    "        else:\n",
    "            print(\" \",end=\"\")\n",
    "            \n",
    "        \n",
    "    print()\n",
    "    if i < half:\n",
    "        step+=1\n",
    "    else:\n",
    "        step-=1"
   ]
  },
  {
   "cell_type": "code",
   "execution_count": 911,
   "metadata": {},
   "outputs": [
    {
     "name": "stdout",
     "output_type": "stream",
     "text": [
      "1     1\n",
      "12   21\n",
      "123 321\n",
      "1234321\n"
     ]
    }
   ],
   "source": [
    "# pattern 16\n",
    "# 1     1\n",
    "# 12   21\n",
    "# 123 321\n",
    "# 1234321\n",
    "\n",
    "num = 5\n",
    "num2=7\n",
    "step=0\n",
    "half = num//2+1\n",
    "\n",
    "for i in range(1,num):\n",
    "    counter =0\n",
    "    for j in range(1,num2+1):\n",
    "        if 1+step < j <=(num+1-step):\n",
    "            print(\" \",end=\"\")\n",
    "            \n",
    "        else:\n",
    "            print(counter+1,end=\"\")\n",
    "        if j < (num2//2+1):\n",
    "            counter+=1\n",
    "        else:\n",
    "            counter-=1\n",
    "    print()\n",
    "    if i <= half:\n",
    "        step+=1\n",
    "    else:\n",
    "        step-=1"
   ]
  },
  {
   "cell_type": "code",
   "execution_count": 931,
   "metadata": {},
   "outputs": [
    {
     "name": "stdout",
     "output_type": "stream",
     "text": [
      "  *  \n",
      "  ** \n",
      "*****\n",
      "  ** \n",
      "  *  \n"
     ]
    }
   ],
   "source": [
    "# pattern 17\n",
    "#    *\n",
    "#    **\n",
    "# ******\n",
    "#    **\n",
    "#    *\n",
    "\n",
    "\n",
    "num=5\n",
    "half = num//2+1\n",
    "step = 0\n",
    "\n",
    "for i in range(1,num+1):\n",
    "    for j in range(1,num+1):\n",
    "        if  (half<=j<=half+step) or i==half:\n",
    "            print(\"*\",end=\"\")\n",
    "        else:\n",
    "            print(\" \",end=\"\")\n",
    "    print()\n",
    "    if i < half:\n",
    "        step+=1\n",
    "    else:\n",
    "        step-=1"
   ]
  },
  {
   "cell_type": "code",
   "execution_count": 960,
   "metadata": {},
   "outputs": [
    {
     "name": "stdout",
     "output_type": "stream",
     "text": [
      "*******\n",
      " *   * \n",
      "  * *  \n",
      "   *   \n",
      "  ***  \n",
      " ***** \n",
      "*******\n"
     ]
    }
   ],
   "source": [
    "# pattern 18\n",
    "#  *******\n",
    "#   *   *\n",
    "#    * *\n",
    "#     *\n",
    "#    ***\n",
    "#   *****\n",
    "#  *******\n",
    "\n",
    "num=7\n",
    "half = num//2+1\n",
    "\n",
    "for i in range(1,num+1):\n",
    "    step = 0\n",
    "    for j in range(1,num+1):\n",
    "        if i == 1 or i==num or j==i or i+j==num+1 or (i > half and half-step <=j<=half+step):\n",
    "            print(\"*\",end=\"\")\n",
    "            if j < half:\n",
    "                step+=1\n",
    "            else:\n",
    "                step-=1\n",
    "        else:\n",
    "            print(\" \",end=\"\")\n",
    "            \n",
    " \n",
    "            \n",
    "    print()\n"
   ]
  },
  {
   "cell_type": "code",
   "execution_count": 978,
   "metadata": {},
   "outputs": [
    {
     "name": "stdout",
     "output_type": "stream",
     "text": [
      "****  *\n",
      "   *  *\n",
      "   *  *\n",
      "*******\n",
      "*  *   \n",
      "*  *   \n",
      "*  ****\n"
     ]
    }
   ],
   "source": [
    "# pattern 19\n",
    "#  *** *\n",
    "#    * *\n",
    "#  *****\n",
    "#  * *\n",
    "#  * ***\n",
    "\n",
    "num=7\n",
    "half = num//2+1\n",
    "\n",
    "for i in range(1,num+1):\n",
    "    for j in range(1,num+1): \n",
    "        if (i == 1 and (j == num or j <= half)) or (1<i <=half-1 and (j== num or j == half)) or i == half or (i > half and (j==1 or j==half)) or (i == num and j > half-1):\n",
    "            print(\"*\",end=\"\")\n",
    "        else:\n",
    "            print(\" \",end=\"\")\n",
    "    else:\n",
    "        print()\n"
   ]
  },
  {
   "cell_type": "code",
   "execution_count": 1015,
   "metadata": {},
   "outputs": [
    {
     "name": "stdout",
     "output_type": "stream",
     "text": [
      "*       *\n",
      "*       *\n",
      "*       *\n",
      "*       *\n",
      "*   *   *\n",
      "*  * *  *\n",
      "* *   * *\n",
      "**     **\n",
      "*       *\n"
     ]
    }
   ],
   "source": [
    "# pattern 20\n",
    "\n",
    "#  *   *\n",
    "#  *   *\n",
    "#  * * *\n",
    "#  ** **\n",
    "#  *   *\n",
    "\n",
    "num=9\n",
    "half = num//2+1\n",
    "step=0\n",
    "for i in range(1,num+1):\n",
    "    for j in range(1,num+1): \n",
    "        if (j == 1 or j == num) or (i == half and j == half)  or (i > half and (j ==  half-step or j == half+step)):\n",
    "            print(\"*\",end=\"\")            \n",
    "        else:\n",
    "            print(\" \",end=\"\")\n",
    "    else:\n",
    "        print()\n",
    "    if i == half:\n",
    "        step =0\n",
    "    if i < half:\n",
    "        step+=1\n",
    "    else:\n",
    "        step-=1"
   ]
  },
  {
   "cell_type": "code",
   "execution_count": 1016,
   "metadata": {},
   "outputs": [
    {
     "name": "stdout",
     "output_type": "stream",
     "text": [
      "*\n",
      "**\n",
      "***\n",
      "****\n",
      "*****\n"
     ]
    }
   ],
   "source": [
    "# pattern 1\n",
    "def get_pattern1(num):\n",
    "    for i in range(1,num+1):\n",
    "        print(\"*\"*i)\n",
    "\n",
    "get_pattern1(5)"
   ]
  },
  {
   "cell_type": "code",
   "execution_count": 1020,
   "metadata": {},
   "outputs": [
    {
     "name": "stdout",
     "output_type": "stream",
     "text": [
      "*****\n",
      "****\n",
      "***\n",
      "**\n",
      "*\n",
      "******\n",
      "*****\n",
      "****\n",
      "***\n",
      "**\n",
      "*\n"
     ]
    }
   ],
   "source": [
    "# pattern 2\n",
    "def get_pattern2(num):\n",
    "    for i in range(0,num):\n",
    "        print(\"*\"*(num-i))\n",
    "\n",
    "get_pattern2(5)\n",
    "get_pattern2(6)"
   ]
  },
  {
   "cell_type": "code",
   "execution_count": 1033,
   "metadata": {},
   "outputs": [
    {
     "name": "stdout",
     "output_type": "stream",
     "text": [
      " \t \t \t \t*\t\n",
      " \t \t \t*\t*\t\n",
      " \t \t*\t*\t*\t\n",
      " \t*\t*\t*\t*\t\n",
      "*\t*\t*\t*\t*\t\n",
      " \t \t \t \t \t*\t\n",
      " \t \t \t \t*\t*\t\n",
      " \t \t \t*\t*\t*\t\n",
      " \t \t*\t*\t*\t*\t\n",
      " \t*\t*\t*\t*\t*\t\n",
      "*\t*\t*\t*\t*\t*\t\n"
     ]
    }
   ],
   "source": [
    "# pattern 3\n",
    "def get_pattern3(num):\n",
    "    for i in range(1,num+1):\n",
    "        print(\" \\t\"*(num-i)+\"*\\t\"*(i))\n",
    "\n",
    "get_pattern3(5)\n",
    "get_pattern3(6)"
   ]
  },
  {
   "cell_type": "code",
   "execution_count": 1032,
   "metadata": {},
   "outputs": [
    {
     "name": "stdout",
     "output_type": "stream",
     "text": [
      "*\t*\t*\t*\t*\t\n",
      " \t*\t*\t*\t*\t\n",
      " \t \t*\t*\t*\t\n",
      " \t \t \t*\t*\t\n",
      " \t \t \t \t*\t\n",
      "*\t*\t*\t*\t*\t*\t\n",
      " \t*\t*\t*\t*\t*\t\n",
      " \t \t*\t*\t*\t*\t\n",
      " \t \t \t*\t*\t*\t\n",
      " \t \t \t \t*\t*\t\n",
      " \t \t \t \t \t*\t\n"
     ]
    }
   ],
   "source": [
    "# pattern 4\n",
    "def get_pattern4(num):\n",
    "    for i in range(0,num):\n",
    "        print(\" \\t\"*(i)+\"*\\t\"*(num-i))\n",
    "\n",
    "get_pattern4(5)\n",
    "get_pattern4(6)"
   ]
  },
  {
   "cell_type": "code",
   "execution_count": 1039,
   "metadata": {},
   "outputs": [
    {
     "name": "stdout",
     "output_type": "stream",
     "text": [
      " \t \t*\t \t \t\n",
      " \t*\t*\t*\t \t\n",
      "*\t*\t*\t*\t*\t\n",
      " \t*\t*\t*\t \t\n",
      " \t \t*\t \t \t\n",
      " \t \t \t*\t \t \t \t\n",
      " \t \t*\t*\t*\t \t \t\n",
      " \t*\t*\t*\t*\t*\t \t\n",
      "*\t*\t*\t*\t*\t*\t*\t\n",
      " \t*\t*\t*\t*\t*\t \t\n",
      " \t \t*\t*\t*\t \t \t\n",
      " \t \t \t*\t \t \t \t\n"
     ]
    }
   ],
   "source": [
    "# pattern 5\n",
    "\n",
    "def get_pattern5(num):\n",
    "    half = num//2 if num%2==0 else num//2+1\n",
    "    step=0\n",
    "    for i in range(1,num+1):\n",
    "        for j in range(1,num+1):\n",
    "            if half-step <=j<= half+step:\n",
    "                print(\"*\\t\",end=\"\")\n",
    "            else:\n",
    "                print(\" \\t\",end=\"\")\n",
    "        print()\n",
    "        if i < half:\n",
    "            step+=1\n",
    "        else:\n",
    "            step-=1\n",
    "    \n",
    "get_pattern5(5)\n",
    "get_pattern5(7)"
   ]
  },
  {
   "cell_type": "code",
   "execution_count": 1048,
   "metadata": {},
   "outputs": [
    {
     "name": "stdout",
     "output_type": "stream",
     "text": [
      "*\t*\t*\t*\t \t*\t*\t*\t*\t\n",
      "*\t*\t*\t \t \t \t*\t*\t*\t\n",
      "*\t*\t \t \t \t \t \t*\t*\t\n",
      "*\t \t \t \t \t \t \t \t*\t\n",
      "*\t*\t \t \t \t \t \t*\t*\t\n",
      "*\t*\t*\t \t \t \t*\t*\t*\t\n",
      "*\t*\t*\t*\t \t*\t*\t*\t*\t\n"
     ]
    }
   ],
   "source": [
    "# pattern 6\n",
    "\n",
    "def get_pattern6(num,num2):\n",
    "    half = num2//2+1 \n",
    "    step=0\n",
    "    for i in range(1,num+1):\n",
    "        for j in range(1,num2+1):\n",
    "            if j < half-step or j > half+step:\n",
    "                print(\"*\\t\",end=\"\")\n",
    "            else:\n",
    "                print(\" \\t\",end=\"\")\n",
    "        print()\n",
    "        if i < num//2+1:\n",
    "            step+=1\n",
    "        else:\n",
    "            step-=1\n",
    "            \n",
    "get_pattern6(7,9)"
   ]
  },
  {
   "cell_type": "code",
   "execution_count": 1050,
   "metadata": {},
   "outputs": [
    {
     "name": "stdout",
     "output_type": "stream",
     "text": [
      "*\t \t \t \t \t\n",
      " \t*\t \t \t \t\n",
      " \t \t*\t \t \t\n",
      " \t \t \t*\t \t\n",
      " \t \t \t \t*\t\n"
     ]
    }
   ],
   "source": [
    "# pattern 7\n",
    "\n",
    "def get_pattern7(num):\n",
    "    half = num//2+1\n",
    "    step=0\n",
    "    for i in range(1,num+1):\n",
    "        for j in range(1,num+1):\n",
    "            if i==j:\n",
    "                print(\"*\\t\",end=\"\")\n",
    "            else:\n",
    "                print(\" \\t\",end=\"\")\n",
    "        print()\n",
    "        \n",
    "            \n",
    "get_pattern7(5)"
   ]
  },
  {
   "cell_type": "code",
   "execution_count": 1056,
   "metadata": {},
   "outputs": [
    {
     "name": "stdout",
     "output_type": "stream",
     "text": [
      " \t \t \t \t*\t\n",
      " \t \t \t*\t \t\n",
      " \t \t*\t \t \t\n",
      " \t*\t \t \t \t\n",
      "*\t \t \t \t \t\n"
     ]
    }
   ],
   "source": [
    "# pattern 8\n",
    "\n",
    "def get_pattern8(num):\n",
    "    half = num//2+1\n",
    "    step=0\n",
    "    for i in range(1,num+1):\n",
    "        for j in range(1,num+1):\n",
    "            if i+j==num+1:\n",
    "                print(\"*\\t\",end=\"\")\n",
    "            else:\n",
    "                print(\" \\t\",end=\"\")\n",
    "        print()\n",
    "        \n",
    "            \n",
    "get_pattern8(5)"
   ]
  },
  {
   "cell_type": "code",
   "execution_count": 1057,
   "metadata": {},
   "outputs": [
    {
     "name": "stdout",
     "output_type": "stream",
     "text": [
      "*\t \t \t \t*\t\n",
      " \t*\t \t*\t \t\n",
      " \t \t*\t \t \t\n",
      " \t*\t \t*\t \t\n",
      "*\t \t \t \t*\t\n"
     ]
    }
   ],
   "source": [
    "# pattern 9\n",
    "\n",
    "def get_pattern9(num):\n",
    "    half = num//2+1\n",
    "    step=0\n",
    "    for i in range(1,num+1):\n",
    "        for j in range(1,num+1):\n",
    "            if i+j==num+1 or i==j:\n",
    "                print(\"*\\t\",end=\"\")\n",
    "            else:\n",
    "                print(\" \\t\",end=\"\")\n",
    "        print()\n",
    "\n",
    "            \n",
    "get_pattern9(5)"
   ]
  },
  {
   "cell_type": "code",
   "execution_count": 1077,
   "metadata": {},
   "outputs": [
    {
     "name": "stdout",
     "output_type": "stream",
     "text": [
      " \t \t*\t \t \t\n",
      " \t*\t \t*\t \t\n",
      "*\t \t \t \t*\t\n",
      " \t*\t \t*\t \t\n",
      " \t \t*\t \t \t\n"
     ]
    }
   ],
   "source": [
    "# pattern 10\n",
    "\n",
    "def get_pattern10(num):\n",
    "    half = num//2+1\n",
    "    step=0\n",
    "    for i in range(1,num+1):\n",
    "        for j in range(1,num+1):\n",
    "            if j == half+step or j==half-step:\n",
    "                print(\"*\\t\",end=\"\")\n",
    "            else:\n",
    "                print(\" \\t\",end=\"\")\n",
    "        print()\n",
    "        if i < half:\n",
    "            step+=1\n",
    "        else:\n",
    "            step-=1\n",
    "            \n",
    "get_pattern10(5)"
   ]
  },
  {
   "cell_type": "code",
   "execution_count": 1086,
   "metadata": {},
   "outputs": [
    {
     "name": "stdout",
     "output_type": "stream",
     "text": [
      "1\n",
      "23\n",
      "456\n",
      "78910\n",
      "1112131415\n"
     ]
    }
   ],
   "source": [
    "# pattern 11\n",
    "\n",
    "\n",
    "def get_pattern11(num):\n",
    "    half = num//2+1\n",
    "    var = 1\n",
    "\n",
    "    for i in range(1,num+1):\n",
    "        for j in range(1,i+1):\n",
    "            print(var,end=\"\")\n",
    "            var+=1\n",
    "        print()\n",
    "        \n",
    "get_pattern11(5)"
   ]
  },
  {
   "cell_type": "code",
   "execution_count": 1089,
   "metadata": {},
   "outputs": [
    {
     "name": "stdout",
     "output_type": "stream",
     "text": [
      "0\t\n",
      "1\t1\t\n",
      "2\t3\t5\t\n",
      "8\t13\t21\t34\t\n",
      "55\t89\t144\t233\t377\t\n"
     ]
    }
   ],
   "source": [
    "# pattern 12\n",
    "\n",
    "\n",
    "def get_pattern12(num):\n",
    "    first=0\n",
    "    second = 1\n",
    "    for i in range(1,num+1):\n",
    "        for j in range(1,i+1):\n",
    "            print(first,end=\"\\t\")\n",
    "            third=first+second\n",
    "            first=second\n",
    "            second=third\n",
    "        print()\n",
    "        \n",
    "get_pattern12(5)"
   ]
  },
  {
   "cell_type": "code",
   "execution_count": 1101,
   "metadata": {},
   "outputs": [
    {
     "name": "stdout",
     "output_type": "stream",
     "text": [
      "1 \n",
      "1 1 \n",
      "1 2 1 \n",
      "1 3 3 1 \n",
      "1 4 6 4 1 \n",
      "1 5 10 10 5 1 \n"
     ]
    }
   ],
   "source": [
    "# pattern 13\n",
    "import math\n",
    "\n",
    "def get_pattern13(num):\n",
    "    \n",
    "    for i in range(0,num+1):\n",
    "        for j in range(0,i+1):\n",
    "            print(math.factorial(i)//(math.factorial(j)*math.factorial(i-j)),end=\" \")\n",
    "        print()\n",
    "\n",
    "get_pattern13(5)"
   ]
  },
  {
   "cell_type": "code",
   "execution_count": 1102,
   "metadata": {},
   "outputs": [
    {
     "name": "stdout",
     "output_type": "stream",
     "text": [
      "5 * 1 = 5\n",
      "5 * 2 = 10\n",
      "5 * 3 = 15\n",
      "5 * 4 = 20\n",
      "5 * 5 = 25\n",
      "5 * 6 = 30\n",
      "5 * 7 = 35\n",
      "5 * 8 = 40\n",
      "5 * 9 = 45\n",
      "5 * 10 = 50\n"
     ]
    }
   ],
   "source": [
    "# pattern 14\n",
    "\n",
    "def get_pattern14(num):\n",
    "    \n",
    "    for i in range(1,10+1):\n",
    "        print(f'{num} * {i} = {i*num}')\n",
    "\n",
    "get_pattern14(5)"
   ]
  },
  {
   "cell_type": "code",
   "execution_count": 1115,
   "metadata": {},
   "outputs": [
    {
     "name": "stdout",
     "output_type": "stream",
     "text": [
      "   1  \n",
      "  232 \n",
      " 34543\n",
      "  232 \n",
      "   1  \n"
     ]
    }
   ],
   "source": [
    "# pattern 15\n",
    "\n",
    "def get_pattern15(num):\n",
    "    half=num//2+1\n",
    "    step=0\n",
    "    for i in range(1,num+1):\n",
    "        step2=0\n",
    "        for j in range(0,num+1):\n",
    "            if half-step <= j <= half+step:\n",
    "                print(step+1+step2,end=\"\")\n",
    "                if j < half:\n",
    "                    step2+=1\n",
    "                else:\n",
    "                    step2-=1\n",
    "            else:\n",
    "                print(\" \",end=\"\")\n",
    "            \n",
    "        print()\n",
    "        if i < half:\n",
    "            step+=1\n",
    "        else:\n",
    "            step-=1\n",
    "        \n",
    "get_pattern15(5)"
   ]
  },
  {
   "cell_type": "code",
   "execution_count": 1191,
   "metadata": {},
   "outputs": [
    {
     "name": "stdout",
     "output_type": "stream",
     "text": [
      "1     1\n",
      "12   21\n",
      "123 321\n",
      "1234321\n"
     ]
    }
   ],
   "source": [
    "# pattern 16\n",
    "\n",
    "def get_pattern16(num,num2):\n",
    "    step=0\n",
    "    half=num2//2+1\n",
    "    for i in range(1,num):\n",
    "        step2=0\n",
    "        for j in range(1,num2+1):\n",
    "            if 1+step >=j or j >=num2-step:\n",
    "                print(step2+1,end=\"\")\n",
    "            else:\n",
    "                print(\" \",end=\"\")\n",
    "\n",
    "            if j < half:\n",
    "                step2+=1\n",
    "            else:\n",
    "                step2-=1\n",
    "            \n",
    "            \n",
    "\n",
    "        \n",
    "        print()\n",
    "        step+=1\n",
    "        \n",
    "get_pattern16(5,7)"
   ]
  },
  {
   "cell_type": "code",
   "execution_count": 1196,
   "metadata": {},
   "outputs": [
    {
     "name": "stdout",
     "output_type": "stream",
     "text": [
      "  *  \n",
      "  ** \n",
      "*****\n",
      "  ** \n",
      "  *  \n"
     ]
    }
   ],
   "source": [
    "# pattern 17\n",
    "\n",
    "def get_pattern17(num):\n",
    "    half=num//2+1\n",
    "    step=0\n",
    "    for i in range(1,num+1):\n",
    "        for j in range(1,num+1):\n",
    "            if i == half or j == half+step or j==half:\n",
    "                print(\"*\",end=\"\")\n",
    "            else:\n",
    "                print(\" \",end=\"\")\n",
    "        print()\n",
    "        if i < half:\n",
    "            step+=1\n",
    "        else:\n",
    "            step-=1\n",
    "            \n",
    "        \n",
    "get_pattern17(5)"
   ]
  },
  {
   "cell_type": "code",
   "execution_count": 1204,
   "metadata": {},
   "outputs": [
    {
     "name": "stdout",
     "output_type": "stream",
     "text": [
      "*****\n",
      " * * \n",
      "  *  \n",
      " *** \n",
      "*****\n",
      "\n",
      "*******\n",
      " *   * \n",
      "  * *  \n",
      "   *   \n",
      "  ***  \n",
      " ***** \n",
      "*******\n"
     ]
    }
   ],
   "source": [
    "# pattern 18\n",
    "\n",
    "def get_pattern18(num):\n",
    "    half=num//2+1\n",
    "    for i in range(1,num+1):\n",
    "        step=0\n",
    "        for j in range(1,num+1):\n",
    "            if i == 1 or i == num or j == i or j+i== num+1 or (i > half and half+step<= j<= half-step):\n",
    "                print(\"*\",end=\"\")\n",
    "                if j> half:\n",
    "                    step+=1\n",
    "                else:\n",
    "                    step-=1\n",
    "            else:\n",
    "                print(\" \",end=\"\")\n",
    "        print()\n",
    "    \n",
    "get_pattern18(5)\n",
    "print()\n",
    "get_pattern18(7)"
   ]
  },
  {
   "cell_type": "code",
   "execution_count": 1212,
   "metadata": {},
   "outputs": [
    {
     "name": "stdout",
     "output_type": "stream",
     "text": [
      "****  *\n",
      "   *  *\n",
      "   *  *\n",
      "*******\n",
      "*  *   \n",
      "*  *   \n",
      "*  ****\n"
     ]
    }
   ],
   "source": [
    "# pattern 19\n",
    "\n",
    "def get_pattern19(num):\n",
    "    half=num//2+1\n",
    "    for i in range(1,num+1):\n",
    "        for j in range(1,num+1):\n",
    "            if (i == 1 and (j <= half or j ==  num) or (1 < i < half and (j == half or j ==num)) or i == half) or (i > half and (j == 1 or j==half)) or (i == num and (j ==1 or j >= half)):\n",
    "                print(\"*\",end=\"\")\n",
    "            else:\n",
    "                print(\" \",end=\"\")\n",
    "        else:\n",
    "            print()\n",
    "            \n",
    "get_pattern19(7)"
   ]
  },
  {
   "cell_type": "code",
   "execution_count": 1228,
   "metadata": {},
   "outputs": [
    {
     "name": "stdout",
     "output_type": "stream",
     "text": [
      "*     *\n",
      "*     *\n",
      "*     *\n",
      "*  *  *\n",
      "* * * *\n",
      "**   **\n",
      "*     *\n"
     ]
    }
   ],
   "source": [
    "# pattern 20\n",
    "\n",
    "def get_pattern20(num):\n",
    "    half=num//2+1\n",
    "    step=0\n",
    "    for i in range(1,num+1):\n",
    "        for j in range(1,num+1):\n",
    "            if (j==1 or j == num or (i == half and i == j)) or (i> half and (j==half+step or j == half-step)):\n",
    "                print(\"*\",end=\"\")\n",
    "            else:\n",
    "                print(\" \",end=\"\")\n",
    "        else:\n",
    "            print()\n",
    "            \n",
    "        if i == half:\n",
    "            step=0\n",
    "        if i < half:\n",
    "            step+=1\n",
    "        else:\n",
    "            step-=1\n",
    "            \n",
    "get_pattern20(7)"
   ]
  },
  {
   "cell_type": "code",
   "execution_count": 1253,
   "metadata": {},
   "outputs": [
    {
     "name": "stdout",
     "output_type": "stream",
     "text": [
      "0 1\n",
      "1 1\n",
      "2 2\n",
      "3 6\n",
      "4 24\n"
     ]
    },
    {
     "data": {
      "text/plain": [
       "120"
      ]
     },
     "execution_count": 1253,
     "metadata": {},
     "output_type": "execute_result"
    }
   ],
   "source": [
    "# factorial\n",
    "\n",
    "def factorial(num):\n",
    "    fact = 1\n",
    "    for i in range(0,num):\n",
    "        fact+=fact*i\n",
    "    return fact\n",
    "\n",
    "factorial(5)\n",
    "    "
   ]
  },
  {
   "cell_type": "markdown",
   "metadata": {},
   "source": [
    "##### "
   ]
  },
  {
   "cell_type": "code",
   "execution_count": 1257,
   "metadata": {},
   "outputs": [
    {
     "data": {
      "text/plain": [
       "3"
      ]
     },
     "execution_count": 1257,
     "metadata": {},
     "output_type": "execute_result"
    }
   ],
   "source": [
    "# number frequency\n",
    "\n",
    "def get_frequency(num,k):\n",
    "    counter=0\n",
    "    while num != 0:\n",
    "        if num%10 == k:\n",
    "            counter+=1\n",
    "        num = num//10\n",
    "        \n",
    "    return counter\n",
    "\n",
    "get_frequency(95439295,9)\n"
   ]
  },
  {
   "cell_type": "code",
   "execution_count": 1260,
   "metadata": {},
   "outputs": [
    {
     "data": {
      "text/plain": [
       "1"
      ]
     },
     "execution_count": 1260,
     "metadata": {},
     "output_type": "execute_result"
    }
   ],
   "source": [
    "get_frequency(954392,2)"
   ]
  },
  {
   "cell_type": "code",
   "execution_count": 1262,
   "metadata": {},
   "outputs": [
    {
     "data": {
      "text/plain": [
       "3"
      ]
     },
     "execution_count": 1262,
     "metadata": {},
     "output_type": "execute_result"
    }
   ],
   "source": [
    "get_frequency(12323543,3)"
   ]
  },
  {
   "cell_type": "code",
   "execution_count": 1265,
   "metadata": {},
   "outputs": [],
   "source": [
    "# Number Conversions\n",
    "\n",
    "def convert_dec_to_octal(num):\n",
    "    octal = 0\n",
    "    counter = 0\n",
    "    while num!=0:\n",
    "        rem=num%8\n",
    "        num = num//8\n",
    "        octal+=rem*(10**(counter))\n",
    "        counter+=1\n",
    "    return octal"
   ]
  },
  {
   "cell_type": "code",
   "execution_count": 1266,
   "metadata": {},
   "outputs": [
    {
     "data": {
      "text/plain": [
       "1172"
      ]
     },
     "execution_count": 1266,
     "metadata": {},
     "output_type": "execute_result"
    }
   ],
   "source": [
    "convert_dec_to_octal(634)"
   ]
  },
  {
   "cell_type": "code",
   "execution_count": 1267,
   "metadata": {},
   "outputs": [],
   "source": [
    "def convert_octal_to_dec(num):\n",
    "    decimal = 0\n",
    "    counter = 0\n",
    "    while num!=0:\n",
    "        rem=num%10\n",
    "        num = num//10\n",
    "        decimal+=rem*(8**(counter))\n",
    "        counter+=1\n",
    "    return decimal"
   ]
  },
  {
   "cell_type": "code",
   "execution_count": 1268,
   "metadata": {},
   "outputs": [
    {
     "data": {
      "text/plain": [
       "634"
      ]
     },
     "execution_count": 1268,
     "metadata": {},
     "output_type": "execute_result"
    }
   ],
   "source": [
    "convert_octal_to_dec(1172)"
   ]
  },
  {
   "cell_type": "code",
   "execution_count": 1271,
   "metadata": {},
   "outputs": [],
   "source": [
    "def convert_any_base_to_decimal(num,base):\n",
    "    decimal = 0\n",
    "    counter = 0\n",
    "    while num!=0:\n",
    "        rem=num%base\n",
    "        num = num//base\n",
    "        decimal+=rem*(10**(counter))\n",
    "        counter+=1\n",
    "    return decimal"
   ]
  },
  {
   "cell_type": "code",
   "execution_count": 1272,
   "metadata": {},
   "outputs": [
    {
     "data": {
      "text/plain": [
       "1172"
      ]
     },
     "execution_count": 1272,
     "metadata": {},
     "output_type": "execute_result"
    }
   ],
   "source": [
    "convert_any_base_to_decimal(634,8)"
   ]
  },
  {
   "cell_type": "code",
   "execution_count": 1286,
   "metadata": {},
   "outputs": [],
   "source": [
    "def convert_any_base_to_any_base(num,base1,base2):\n",
    "    base2_number = 0\n",
    "    counter = 0\n",
    "    while num!=0:\n",
    "        rem=num%base2\n",
    "        num = num//base2\n",
    "        base2_number+=rem*(base1**(counter))\n",
    "        counter+=1\n",
    "    return base2_number"
   ]
  },
  {
   "cell_type": "code",
   "execution_count": 1287,
   "metadata": {},
   "outputs": [
    {
     "data": {
      "text/plain": [
       "57"
      ]
     },
     "execution_count": 1287,
     "metadata": {},
     "output_type": "execute_result"
    }
   ],
   "source": [
    "convert_any_base_to_any_base(111001,2,10)"
   ]
  },
  {
   "cell_type": "code",
   "execution_count": 1288,
   "metadata": {},
   "outputs": [
    {
     "data": {
      "text/plain": [
       "1172"
      ]
     },
     "execution_count": 1288,
     "metadata": {},
     "output_type": "execute_result"
    }
   ],
   "source": [
    "convert_any_base_to_any_base(634,10,8)"
   ]
  },
  {
   "cell_type": "code",
   "execution_count": 1294,
   "metadata": {},
   "outputs": [],
   "source": [
    "def any_base_addition(num1,num2,base):\n",
    "    carry=0\n",
    "    generated_sum =0\n",
    "    counter=0\n",
    "    while num1!=0:\n",
    "        last_digit_num1=num1%10\n",
    "        last_digit_num2=num2%10\n",
    "        num1=num1//10\n",
    "        num2=num2//10\n",
    "        digit_sum = last_digit_num1+last_digit_num2+carry\n",
    "        if digit_sum >= base:\n",
    "            digit_sum = digit_sum - base\n",
    "            carry = 1\n",
    "        else:\n",
    "            carry = 0\n",
    "        generated_sum+= digit_sum*(10**(counter))\n",
    "        counter+=1\n",
    "        \n",
    "    return carry*(10**(counter))+generated_sum"
   ]
  },
  {
   "cell_type": "code",
   "execution_count": 1295,
   "metadata": {},
   "outputs": [
    {
     "data": {
      "text/plain": [
       "1345"
      ]
     },
     "execution_count": 1295,
     "metadata": {},
     "output_type": "execute_result"
    }
   ],
   "source": [
    "any_base_addition(346,777,8)"
   ]
  },
  {
   "cell_type": "code",
   "execution_count": 1297,
   "metadata": {},
   "outputs": [
    {
     "data": {
      "text/plain": [
       "1132"
      ]
     },
     "execution_count": 1297,
     "metadata": {},
     "output_type": "execute_result"
    }
   ],
   "source": [
    "any_base_addition(234,343,5)"
   ]
  },
  {
   "cell_type": "code",
   "execution_count": 1298,
   "metadata": {},
   "outputs": [
    {
     "data": {
      "text/plain": [
       "47"
      ]
     },
     "execution_count": 1298,
     "metadata": {},
     "output_type": "execute_result"
    }
   ],
   "source": [
    "any_base_addition(34,13,8)"
   ]
  },
  {
   "cell_type": "code",
   "execution_count": 1299,
   "metadata": {},
   "outputs": [
    {
     "data": {
      "text/plain": [
       "102"
      ]
     },
     "execution_count": 1299,
     "metadata": {},
     "output_type": "execute_result"
    }
   ],
   "source": [
    "any_base_addition(34,13,5)"
   ]
  },
  {
   "cell_type": "code",
   "execution_count": 1300,
   "metadata": {},
   "outputs": [
    {
     "data": {
      "text/plain": [
       "1410"
      ]
     },
     "execution_count": 1300,
     "metadata": {},
     "output_type": "execute_result"
    }
   ],
   "source": [
    "any_base_addition(767,421,8)"
   ]
  },
  {
   "cell_type": "code",
   "execution_count": 1427,
   "metadata": {},
   "outputs": [],
   "source": [
    "def any_base_sub(num1,num2,base):\n",
    "    carry=0\n",
    "    generated_sub =0\n",
    "    counter=0\n",
    "    while num1!=0:\n",
    "        last_digit_num1=num1%10\n",
    "        last_digit_num2=num2%10\n",
    "        num1=num1//10\n",
    "        num2=num2//10\n",
    "#         print(last_digit_num1,last_digit_num2,carry,num1,num2)\n",
    "        if (last_digit_num1+carry) < last_digit_num2:\n",
    "            last_digit_num1 = (last_digit_num1+carry)+base\n",
    "            carry = -1\n",
    "        elif last_digit_num1+carry > last_digit_num2:\n",
    "            carry = 0\n",
    "#         print(\">>>carry\",carry)\n",
    "        digit_sub = last_digit_num1-last_digit_num2\n",
    "        generated_sub+= digit_sub*(10**(counter))\n",
    "#         print(digit_sub,generated_sub,carry*(10**(counter)))\n",
    "\n",
    "        counter+=1\n",
    "    return generated_sub+carry*(10**(counter-1))"
   ]
  },
  {
   "cell_type": "code",
   "execution_count": 1428,
   "metadata": {},
   "outputs": [
    {
     "data": {
      "text/plain": [
       "754"
      ]
     },
     "execution_count": 1428,
     "metadata": {},
     "output_type": "execute_result"
    }
   ],
   "source": [
    "any_base_sub(1212,236,8)"
   ]
  },
  {
   "cell_type": "code",
   "execution_count": 1429,
   "metadata": {},
   "outputs": [
    {
     "data": {
      "text/plain": [
       "734"
      ]
     },
     "execution_count": 1429,
     "metadata": {},
     "output_type": "execute_result"
    }
   ],
   "source": [
    "any_base_sub(1212,256,8)"
   ]
  },
  {
   "cell_type": "code",
   "execution_count": 1430,
   "metadata": {},
   "outputs": [
    {
     "data": {
      "text/plain": [
       "667"
      ]
     },
     "execution_count": 1430,
     "metadata": {},
     "output_type": "execute_result"
    }
   ],
   "source": [
    "any_base_sub(1234,567,10)"
   ]
  },
  {
   "cell_type": "code",
   "execution_count": 1431,
   "metadata": {},
   "outputs": [
    {
     "data": {
      "text/plain": [
       "1100"
      ]
     },
     "execution_count": 1431,
     "metadata": {},
     "output_type": "execute_result"
    }
   ],
   "source": [
    "any_base_sub(10101,1001,2)"
   ]
  },
  {
   "cell_type": "code",
   "execution_count": 1432,
   "metadata": {},
   "outputs": [
    {
     "data": {
      "text/plain": [
       "222"
      ]
     },
     "execution_count": 1432,
     "metadata": {},
     "output_type": "execute_result"
    }
   ],
   "source": [
    "any_base_sub(543,321,5)"
   ]
  },
  {
   "cell_type": "code",
   "execution_count": 1433,
   "metadata": {},
   "outputs": [
    {
     "data": {
      "text/plain": [
       "666"
      ]
     },
     "execution_count": 1433,
     "metadata": {},
     "output_type": "execute_result"
    }
   ],
   "source": [
    "any_base_sub(777,111,8)"
   ]
  },
  {
   "cell_type": "code",
   "execution_count": 1435,
   "metadata": {},
   "outputs": [
    {
     "name": "stdout",
     "output_type": "stream",
     "text": [
      "754\n",
      "667\n",
      "1100\n",
      "222\n",
      "666\n",
      "111\n",
      "864\n",
      "56\n",
      "232\n",
      "1111\n"
     ]
    }
   ],
   "source": [
    "print(any_base_sub(1212, 236, 8))  # Expected: 754\n",
    "print(any_base_sub(1234, 567, 10)) # Expected: 667\n",
    "print(any_base_sub(10101, 1001, 2)) # Expected: 1100 \n",
    "print(any_base_sub(543, 321, 5))    # Expected: 222\n",
    "print(any_base_sub(777, 111, 8))    # Expected: 666\n",
    "print(any_base_sub(246, 135, 6))    # Expected: 111\n",
    "print(any_base_sub(987, 123, 10))   # Expected: 864\n",
    "print(any_base_sub(234, 145, 7))    # Expected: 56\n",
    "print(any_base_sub(321, 123, 4))    # Expected: 232 \n",
    "print(any_base_sub(11001, 1010, 2)) # Expected: 1111 \n"
   ]
  },
  {
   "cell_type": "code",
   "execution_count": 1515,
   "metadata": {},
   "outputs": [],
   "source": [
    "def get_single_sum(num,base,multiplier):\n",
    "    counter=0\n",
    "    digit_sum = ''\n",
    "    carry=0\n",
    "    \n",
    "    while num!=0 or carry > 0:\n",
    "        single_digit = num%10\n",
    "        num=num//10\n",
    "        multiplication_of_digit = single_digit*multiplier+carry\n",
    "        digit_sum=str((multiplication_of_digit)%base)+digit_sum\n",
    "\n",
    "        carry = multiplication_of_digit//base\n",
    "        counter+=1\n",
    "\n",
    "    return digit_sum"
   ]
  },
  {
   "cell_type": "code",
   "execution_count": 1516,
   "metadata": {},
   "outputs": [],
   "source": [
    "import math\n",
    "def any_base_mul(num1,num2,base):\n",
    "    length_num2 = int(math.log10(num2))+1\n",
    "    counter = 0\n",
    "    digit_sum = 0\n",
    "    while  num2!=0:\n",
    "        single_digit_num2 = num2%10\n",
    "        num2=num2//10\n",
    "        num1_sum = int(get_single_sum(num1,base,single_digit_num2))\n",
    "        digit_sum = any_base_addition(num1_sum*(10**(counter)),digit_sum,base)\n",
    "        counter+=1\n",
    "    return digit_sum"
   ]
  },
  {
   "cell_type": "code",
   "execution_count": 1520,
   "metadata": {},
   "outputs": [],
   "source": [
    "# get_single_sum(234,8,7)"
   ]
  },
  {
   "cell_type": "code",
   "execution_count": null,
   "metadata": {},
   "outputs": [],
   "source": []
  },
  {
   "cell_type": "code",
   "execution_count": 1521,
   "metadata": {},
   "outputs": [
    {
     "data": {
      "text/plain": [
       "22710"
      ]
     },
     "execution_count": 1521,
     "metadata": {},
     "output_type": "execute_result"
    }
   ],
   "source": [
    "any_base_mul(234,76,8)"
   ]
  },
  {
   "cell_type": "code",
   "execution_count": null,
   "metadata": {},
   "outputs": [],
   "source": []
  }
 ],
 "metadata": {
  "kernelspec": {
   "display_name": "Python 3",
   "language": "python",
   "name": "python3"
  },
  "language_info": {
   "codemirror_mode": {
    "name": "ipython",
    "version": 3
   },
   "file_extension": ".py",
   "mimetype": "text/x-python",
   "name": "python",
   "nbconvert_exporter": "python",
   "pygments_lexer": "ipython3",
   "version": "3.8.10"
  }
 },
 "nbformat": 4,
 "nbformat_minor": 5
}
