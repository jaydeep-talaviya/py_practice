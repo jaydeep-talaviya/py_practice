{
 "cells": [
  {
   "cell_type": "code",
   "execution_count": 3,
   "metadata": {},
   "outputs": [
    {
     "name": "stdout",
     "output_type": "stream",
     "text": [
      "*****\n",
      "   *\n",
      "  *\n",
      " *\n",
      "*****\n"
     ]
    }
   ],
   "source": [
    "# 1) print Z\n",
    "\n",
    "\n",
    "for i in range(1,6):\n",
    "    if i == 1 or i == 5:\n",
    "        print(\"*\"*(6-1))\n",
    "    else:\n",
    "        print(\" \"*(6-i-2),\"*\")"
   ]
  },
  {
   "cell_type": "code",
   "execution_count": null,
   "metadata": {},
   "outputs": [],
   "source": []
  },
  {
   "cell_type": "code",
   "execution_count": null,
   "metadata": {},
   "outputs": [],
   "source": []
  },
  {
   "cell_type": "code",
   "execution_count": 12,
   "metadata": {},
   "outputs": [
    {
     "data": {
      "text/plain": [
       "1"
      ]
     },
     "execution_count": 12,
     "metadata": {},
     "output_type": "execute_result"
    }
   ],
   "source": [
    "4%3"
   ]
  },
  {
   "cell_type": "code",
   "execution_count": null,
   "metadata": {},
   "outputs": [],
   "source": [
    "# what is prime number\n",
    "# a number that can be divide by it self and 1.\n"
   ]
  },
  {
   "cell_type": "code",
   "execution_count": 1,
   "metadata": {},
   "outputs": [],
   "source": [
    "def check_prime(num):\n",
    "    prime_count=0\n",
    "    for i in range(1,num+1):\n",
    "        if num%i==0:\n",
    "            prime_count+=1\n",
    "            \n",
    "    return True if prime_count == 2 else False"
   ]
  },
  {
   "cell_type": "code",
   "execution_count": 2,
   "metadata": {},
   "outputs": [
    {
     "data": {
      "text/plain": [
       "False"
      ]
     },
     "execution_count": 2,
     "metadata": {},
     "output_type": "execute_result"
    }
   ],
   "source": [
    "check_prime(4)"
   ]
  },
  {
   "cell_type": "code",
   "execution_count": 3,
   "metadata": {},
   "outputs": [
    {
     "data": {
      "text/plain": [
       "True"
      ]
     },
     "execution_count": 3,
     "metadata": {},
     "output_type": "execute_result"
    }
   ],
   "source": [
    "check_prime(3)"
   ]
  },
  {
   "cell_type": "code",
   "execution_count": 4,
   "metadata": {},
   "outputs": [
    {
     "data": {
      "text/plain": [
       "True"
      ]
     },
     "execution_count": 4,
     "metadata": {},
     "output_type": "execute_result"
    }
   ],
   "source": [
    "check_prime(2)"
   ]
  },
  {
   "cell_type": "code",
   "execution_count": 21,
   "metadata": {},
   "outputs": [
    {
     "name": "stdout",
     "output_type": "stream",
     "text": [
      "Enter Low Num7\n",
      "Enter High Num24\n",
      "7\n",
      "11\n",
      "13\n",
      "17\n",
      "19\n",
      "23\n"
     ]
    }
   ],
   "source": [
    "# get printed prime number\n",
    "\n",
    "low=int(input(\"Enter Low Num\"))\n",
    "high=int(input(\"Enter High Num\"))\n",
    "\n",
    "def get_printed(low,high):\n",
    "    for i in range(low,high+1):\n",
    "        prime_count=0\n",
    "        for j in range(1,i+1):\n",
    "            if i%j==0:\n",
    "                prime_count+=1\n",
    "        if prime_count == 2:\n",
    "            print(i)\n",
    "\n",
    "get_printed(low,high)"
   ]
  },
  {
   "cell_type": "code",
   "execution_count": 6,
   "metadata": {},
   "outputs": [
    {
     "name": "stdout",
     "output_type": "stream",
     "text": [
      "0\n",
      "1\n",
      "1\n",
      "2\n",
      "3\n"
     ]
    }
   ],
   "source": [
    "# print fibonacci num\n",
    "\n",
    "def get_fibonacci(n):\n",
    "    first =0\n",
    "    second =1\n",
    "    for i in range(n):\n",
    "        print(first)\n",
    "        third = first+second\n",
    "        first = second\n",
    "        second = third\n",
    "get_fibonacci(5)"
   ]
  },
  {
   "cell_type": "code",
   "execution_count": 22,
   "metadata": {},
   "outputs": [
    {
     "name": "stdout",
     "output_type": "stream",
     "text": [
      "3\n",
      "4\n",
      "1\n"
     ]
    }
   ],
   "source": [
    "# check how many digits in number\n",
    "# e.g. 134 -> 3\n",
    "\n",
    "def calculate_len(num):\n",
    "    count = 0\n",
    "    while num != 0:\n",
    "        num = num//10\n",
    "        count+=1\n",
    "    return count\n",
    "print(calculate_len(110))\n",
    "print(calculate_len(1102))\n",
    "print(calculate_len(1))"
   ]
  },
  {
   "cell_type": "code",
   "execution_count": 109,
   "metadata": {},
   "outputs": [
    {
     "name": "stdout",
     "output_type": "stream",
     "text": [
      "4\n",
      "3\n",
      "4\n",
      "2\n"
     ]
    }
   ],
   "source": [
    "# print numbers from left to right\n",
    "import math\n",
    "def print_left_to_right(num):\n",
    "    length = int(math.log10(num)+1)\n",
    "    count=0\n",
    "    while num!=0:\n",
    "        count+=1\n",
    "        print(num//(10**(length-count)))\n",
    "        num = num%(10**(length-count))\n",
    "print_left_to_right(4342)"
   ]
  },
  {
   "cell_type": "code",
   "execution_count": null,
   "metadata": {},
   "outputs": [],
   "source": []
  },
  {
   "cell_type": "code",
   "execution_count": 96,
   "metadata": {},
   "outputs": [
    {
     "data": {
      "text/plain": [
       "23"
      ]
     },
     "execution_count": 96,
     "metadata": {},
     "output_type": "execute_result"
    }
   ],
   "source": []
  },
  {
   "cell_type": "code",
   "execution_count": null,
   "metadata": {},
   "outputs": [],
   "source": []
  }
 ],
 "metadata": {
  "kernelspec": {
   "display_name": "Python 3",
   "language": "python",
   "name": "python3"
  },
  "language_info": {
   "codemirror_mode": {
    "name": "ipython",
    "version": 3
   },
   "file_extension": ".py",
   "mimetype": "text/x-python",
   "name": "python",
   "nbconvert_exporter": "python",
   "pygments_lexer": "ipython3",
   "version": "3.8.10"
  }
 },
 "nbformat": 4,
 "nbformat_minor": 5
}
