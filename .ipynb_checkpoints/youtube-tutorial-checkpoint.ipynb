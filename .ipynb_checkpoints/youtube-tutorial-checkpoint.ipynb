{
 "cells": [
  {
   "cell_type": "code",
   "execution_count": 3,
   "metadata": {},
   "outputs": [
    {
     "name": "stdout",
     "output_type": "stream",
     "text": [
      "*****\n",
      "   *\n",
      "  *\n",
      " *\n",
      "*****\n"
     ]
    }
   ],
   "source": [
    "# 1) print Z\n",
    "\n",
    "\n",
    "for i in range(1,6):\n",
    "    if i == 1 or i == 5:\n",
    "        print(\"*\"*(6-1))\n",
    "    else:\n",
    "        print(\" \"*(6-i-2),\"*\")"
   ]
  },
  {
   "cell_type": "code",
   "execution_count": null,
   "metadata": {},
   "outputs": [],
   "source": []
  },
  {
   "cell_type": "code",
   "execution_count": null,
   "metadata": {},
   "outputs": [],
   "source": []
  },
  {
   "cell_type": "code",
   "execution_count": 12,
   "metadata": {},
   "outputs": [
    {
     "data": {
      "text/plain": [
       "1"
      ]
     },
     "execution_count": 12,
     "metadata": {},
     "output_type": "execute_result"
    }
   ],
   "source": [
    "4%3"
   ]
  },
  {
   "cell_type": "code",
   "execution_count": null,
   "metadata": {},
   "outputs": [],
   "source": [
    "# what is prime number\n",
    "# a number that can be divide by it self and 1.\n"
   ]
  },
  {
   "cell_type": "code",
   "execution_count": 1,
   "metadata": {},
   "outputs": [],
   "source": [
    "def check_prime(num):\n",
    "    prime_count=0\n",
    "    for i in range(1,num+1):\n",
    "        if num%i==0:\n",
    "            prime_count+=1\n",
    "            \n",
    "    return True if prime_count == 2 else False"
   ]
  },
  {
   "cell_type": "code",
   "execution_count": 2,
   "metadata": {},
   "outputs": [
    {
     "data": {
      "text/plain": [
       "False"
      ]
     },
     "execution_count": 2,
     "metadata": {},
     "output_type": "execute_result"
    }
   ],
   "source": [
    "check_prime(4)"
   ]
  },
  {
   "cell_type": "code",
   "execution_count": 3,
   "metadata": {},
   "outputs": [
    {
     "data": {
      "text/plain": [
       "True"
      ]
     },
     "execution_count": 3,
     "metadata": {},
     "output_type": "execute_result"
    }
   ],
   "source": [
    "check_prime(3)"
   ]
  },
  {
   "cell_type": "code",
   "execution_count": 4,
   "metadata": {},
   "outputs": [
    {
     "data": {
      "text/plain": [
       "True"
      ]
     },
     "execution_count": 4,
     "metadata": {},
     "output_type": "execute_result"
    }
   ],
   "source": [
    "check_prime(2)"
   ]
  },
  {
   "cell_type": "code",
   "execution_count": 21,
   "metadata": {},
   "outputs": [
    {
     "name": "stdout",
     "output_type": "stream",
     "text": [
      "Enter Low Num7\n",
      "Enter High Num24\n",
      "7\n",
      "11\n",
      "13\n",
      "17\n",
      "19\n",
      "23\n"
     ]
    }
   ],
   "source": [
    "# get printed prime number\n",
    "\n",
    "low=int(input(\"Enter Low Num\"))\n",
    "high=int(input(\"Enter High Num\"))\n",
    "\n",
    "def get_printed(low,high):\n",
    "    for i in range(low,high+1):\n",
    "        prime_count=0\n",
    "        for j in range(1,i+1):\n",
    "            if i%j==0:\n",
    "                prime_count+=1\n",
    "        if prime_count == 2:\n",
    "            print(i)\n",
    "\n",
    "get_printed(low,high)"
   ]
  },
  {
   "cell_type": "code",
   "execution_count": 6,
   "metadata": {},
   "outputs": [
    {
     "name": "stdout",
     "output_type": "stream",
     "text": [
      "0\n",
      "1\n",
      "1\n",
      "2\n",
      "3\n"
     ]
    }
   ],
   "source": [
    "# print fibonacci num\n",
    "\n",
    "def get_fibonacci(n):\n",
    "    first =0\n",
    "    second =1\n",
    "    for i in range(n):\n",
    "        print(first)\n",
    "        third = first+second\n",
    "        first = second\n",
    "        second = third\n",
    "get_fibonacci(5)"
   ]
  },
  {
   "cell_type": "code",
   "execution_count": 22,
   "metadata": {},
   "outputs": [
    {
     "name": "stdout",
     "output_type": "stream",
     "text": [
      "3\n",
      "4\n",
      "1\n"
     ]
    }
   ],
   "source": [
    "# check how many digits in number\n",
    "# e.g. 134 -> 3\n",
    "\n",
    "def calculate_len(num):\n",
    "    count = 0\n",
    "    while num != 0:\n",
    "        num = num//10\n",
    "        count+=1\n",
    "    return count\n",
    "print(calculate_len(110))\n",
    "print(calculate_len(1102))\n",
    "print(calculate_len(1))"
   ]
  },
  {
   "cell_type": "code",
   "execution_count": 109,
   "metadata": {
    "scrolled": true
   },
   "outputs": [
    {
     "name": "stdout",
     "output_type": "stream",
     "text": [
      "4\n",
      "3\n",
      "4\n",
      "2\n"
     ]
    }
   ],
   "source": [
    "# print numbers from left to right\n",
    "import math\n",
    "def print_left_to_right(num):\n",
    "    length = int(math.log10(num)+1)\n",
    "    count=0\n",
    "    while num!=0:\n",
    "        count+=1\n",
    "        print(num//(10**(length-count)))\n",
    "        num = num%(10**(length-count))\n",
    "print_left_to_right(4342)"
   ]
  },
  {
   "cell_type": "code",
   "execution_count": 124,
   "metadata": {},
   "outputs": [
    {
     "name": "stdout",
     "output_type": "stream",
     "text": [
      "2\n",
      "4\n",
      "3\n",
      "4\n"
     ]
    }
   ],
   "source": [
    "# print numbers from right to left\n",
    "import math\n",
    "def print_right_to_left(num):\n",
    "    count=0\n",
    "    while num!=0:\n",
    "        print(num%10)\n",
    "        num=num//10\n",
    "print_right_to_left(4342)"
   ]
  },
  {
   "cell_type": "code",
   "execution_count": 128,
   "metadata": {},
   "outputs": [],
   "source": [
    "# return inverse number\n",
    "# eg. -> 23541\n",
    "# ans -> 14532\n",
    "\n",
    "def inverse_number(num):\n",
    "    length=int(math.log10(num)+1)\n",
    "    inverse=0\n",
    "    counter = 0\n",
    "    while num!=0:\n",
    "        counter+=1\n",
    "        inverse+=(num%10)*(10**(length-counter))\n",
    "        num=num//10\n",
    "    return inverse"
   ]
  },
  {
   "cell_type": "code",
   "execution_count": 129,
   "metadata": {},
   "outputs": [
    {
     "data": {
      "text/plain": [
       "14532"
      ]
     },
     "execution_count": 129,
     "metadata": {},
     "output_type": "execute_result"
    }
   ],
   "source": [
    "inverse_number(23541)"
   ]
  },
  {
   "cell_type": "code",
   "execution_count": 130,
   "metadata": {},
   "outputs": [
    {
     "data": {
      "text/plain": [
       "12534"
      ]
     },
     "execution_count": 130,
     "metadata": {},
     "output_type": "execute_result"
    }
   ],
   "source": [
    "inverse_number(43521)"
   ]
  },
  {
   "cell_type": "code",
   "execution_count": 134,
   "metadata": {},
   "outputs": [
    {
     "data": {
      "text/plain": [
       "521"
      ]
     },
     "execution_count": 134,
     "metadata": {},
     "output_type": "execute_result"
    }
   ],
   "source": [
    "43521%1000"
   ]
  },
  {
   "cell_type": "code",
   "execution_count": 147,
   "metadata": {},
   "outputs": [
    {
     "data": {
      "text/plain": [
       "52143"
      ]
     },
     "execution_count": 147,
     "metadata": {},
     "output_type": "execute_result"
    }
   ],
   "source": [
    "# rotate by n numbers\n",
    "\n",
    "def rotate_numbers(num,d):\n",
    "    length = int(math.log10(num)+1)\n",
    "    right = num//(10**(length-d))\n",
    "    left = num%(10**(length-d))\n",
    "    return left*(10**d)+right\n",
    "\n",
    "rotate_numbers(43521,2)"
   ]
  },
  {
   "cell_type": "code",
   "execution_count": 170,
   "metadata": {},
   "outputs": [],
   "source": [
    "#  find GCD and LCD\n",
    "\n",
    "def get_gcd(num1,num2):\n",
    "    greatest = num1 if num1 > num2 else num2\n",
    "    least = num2 if num1 > num2 else num1    \n",
    "    while (greatest%least)!=0:\n",
    "        reminder = greatest%least\n",
    "        greatest = least\n",
    "        least = reminder\n",
    "    lcm =(num1*num2)//reminder\n",
    "    return reminder,lcm"
   ]
  },
  {
   "cell_type": "code",
   "execution_count": 171,
   "metadata": {},
   "outputs": [
    {
     "data": {
      "text/plain": [
       "(12, 72)"
      ]
     },
     "execution_count": 171,
     "metadata": {},
     "output_type": "execute_result"
    }
   ],
   "source": [
    "get_gcd(36,24)"
   ]
  },
  {
   "cell_type": "code",
   "execution_count": 172,
   "metadata": {},
   "outputs": [
    {
     "data": {
      "text/plain": [
       "(3, 18)"
      ]
     },
     "execution_count": 172,
     "metadata": {},
     "output_type": "execute_result"
    }
   ],
   "source": [
    "get_gcd(6,9)"
   ]
  },
  {
   "cell_type": "code",
   "execution_count": 188,
   "metadata": {},
   "outputs": [
    {
     "data": {
      "text/plain": [
       "'1x2x3'"
      ]
     },
     "execution_count": 188,
     "metadata": {},
     "output_type": "execute_result"
    }
   ],
   "source": [
    "# prime factorize number\n",
    "# eg. -> 12-> 2*2*3\n",
    "\n",
    "def get_prime_factorized_num(num):\n",
    "    current_prime=2\n",
    "    prime_factor = f'{1}'\n",
    "    while num!=1:\n",
    "        if num%current_prime == 0:\n",
    "            prime_factor+=f\"x{current_prime}\"\n",
    "            num=num//current_prime\n",
    "        else:\n",
    "            current_prime+=1\n",
    "    return prime_factor\n",
    "\n",
    "get_prime_factorized_num(6)"
   ]
  },
  {
   "cell_type": "code",
   "execution_count": 189,
   "metadata": {},
   "outputs": [
    {
     "data": {
      "text/plain": [
       "'1x2x2x3'"
      ]
     },
     "execution_count": 189,
     "metadata": {},
     "output_type": "execute_result"
    }
   ],
   "source": [
    "get_prime_factorized_num(12)"
   ]
  },
  {
   "cell_type": "code",
   "execution_count": 190,
   "metadata": {},
   "outputs": [
    {
     "data": {
      "text/plain": [
       "'1x2x2x2x2x2x3x3x5'"
      ]
     },
     "execution_count": 190,
     "metadata": {},
     "output_type": "execute_result"
    }
   ],
   "source": [
    "get_prime_factorized_num(1440)"
   ]
  },
  {
   "cell_type": "code",
   "execution_count": 205,
   "metadata": {},
   "outputs": [],
   "source": [
    "# check that numbers can make Pythagorean theorem or not\n",
    "# e.g. 3**2+4**2=5**2\n",
    "\n",
    "\n",
    "def check_pythagorean(a,b,c):\n",
    "    num1,num2,num3 = 0,0,0\n",
    "    if a > b and a>c:\n",
    "        num1=a\n",
    "        if b > c:\n",
    "            num2=b\n",
    "            num3=c\n",
    "        else:\n",
    "            num2=c\n",
    "            num3=b\n",
    "\n",
    "    elif b > a and b >c:\n",
    "        num1 = b\n",
    "        if a > c:\n",
    "            num2 = a\n",
    "            num3=c\n",
    "        else:\n",
    "            num2 = c\n",
    "            num3=a\n",
    "\n",
    "    elif c > a and c > b:\n",
    "        num1 = c\n",
    "        if b > a:\n",
    "            num2 = b\n",
    "            num3=a\n",
    "        else:\n",
    "            num2 = a\n",
    "            num3=b\n",
    "\n",
    "    print(num1,num2,num3)\n",
    "    return (num2**2+num3**2 == num1**2)"
   ]
  },
  {
   "cell_type": "code",
   "execution_count": 206,
   "metadata": {},
   "outputs": [
    {
     "name": "stdout",
     "output_type": "stream",
     "text": [
      "5 4 3\n"
     ]
    },
    {
     "data": {
      "text/plain": [
       "True"
      ]
     },
     "execution_count": 206,
     "metadata": {},
     "output_type": "execute_result"
    }
   ],
   "source": [
    "check_pythagorean(3,4,5)"
   ]
  },
  {
   "cell_type": "code",
   "execution_count": 207,
   "metadata": {},
   "outputs": [
    {
     "name": "stdout",
     "output_type": "stream",
     "text": [
      "17 14 13\n"
     ]
    },
    {
     "data": {
      "text/plain": [
       "False"
      ]
     },
     "execution_count": 207,
     "metadata": {},
     "output_type": "execute_result"
    }
   ],
   "source": [
    "check_pythagorean(13,15,1)"
   ]
  },
  {
   "cell_type": "code",
   "execution_count": 211,
   "metadata": {},
   "outputs": [
    {
     "name": "stdout",
     "output_type": "stream",
     "text": [
      "13 12 5\n"
     ]
    },
    {
     "data": {
      "text/plain": [
       "True"
      ]
     },
     "execution_count": 211,
     "metadata": {},
     "output_type": "execute_result"
    }
   ],
   "source": [
    "check_pythagorean(5,12,13)"
   ]
  },
  {
   "cell_type": "code",
   "execution_count": 311,
   "metadata": {},
   "outputs": [],
   "source": [
    "# print benjamin bulbs > toggling bulbs\n",
    "\n",
    "def get_benjamin_bulbs(num):\n",
    "    for i in range(1,num+1):\n",
    "        if i*i < num:\n",
    "            print(i*i)"
   ]
  },
  {
   "cell_type": "code",
   "execution_count": 313,
   "metadata": {},
   "outputs": [
    {
     "name": "stdout",
     "output_type": "stream",
     "text": [
      "1\n",
      "4\n",
      "9\n",
      "16\n"
     ]
    }
   ],
   "source": [
    "get_benjamin_bulbs(20)"
   ]
  },
  {
   "cell_type": "code",
   "execution_count": 318,
   "metadata": {},
   "outputs": [
    {
     "name": "stdout",
     "output_type": "stream",
     "text": [
      "*      \n",
      "* *     \n",
      "* * *    \n",
      "* * * *   \n",
      "* * * * *  \n",
      "*       \n",
      "* *      \n",
      "* * *     \n",
      "* * * *    \n",
      "* * * * *   \n",
      "* * * * * *  \n"
     ]
    }
   ],
   "source": [
    "### patterns\n",
    "\n",
    "# *\n",
    "# * *\n",
    "# * * *\n",
    "# * * * *\n",
    "# * * * * *\n",
    "\n",
    "def get_pattern1(num):\n",
    "    for i in range(1,num+1):\n",
    "        print(\"* \"*(i),\" \"*(num-i))\n",
    "        \n",
    "get_pattern1(5)\n",
    "get_pattern1(6)"
   ]
  },
  {
   "cell_type": "code",
   "execution_count": 319,
   "metadata": {},
   "outputs": [
    {
     "name": "stdout",
     "output_type": "stream",
     "text": [
      "* * * * *  \n",
      "* * * *   \n",
      "* * *    \n",
      "* *     \n",
      "*      \n",
      "* * * * * *  \n",
      "* * * * *   \n",
      "* * * *    \n",
      "* * *     \n",
      "* *      \n",
      "*       \n"
     ]
    }
   ],
   "source": [
    "### pattern2\n",
    "\n",
    "# * * * * *\n",
    "# * * * *\n",
    "# * * *\n",
    "# * * \n",
    "# * \n",
    "\n",
    "def get_pattern2(num):\n",
    "    for i in range(0,num):\n",
    "        print(\"* \"*(num-i),\" \"*(i))\n",
    "        \n",
    "get_pattern2(5)\n",
    "get_pattern2(6)"
   ]
  },
  {
   "cell_type": "code",
   "execution_count": 324,
   "metadata": {},
   "outputs": [
    {
     "name": "stdout",
     "output_type": "stream",
     "text": [
      "  * * * * *\n",
      "    * * * *\n",
      "      * * *\n",
      "        * *\n",
      "          *\n"
     ]
    }
   ],
   "source": [
    "# pattern 3\n",
    "#   * * * * *\n",
    "#     * * * *\n",
    "#       * * *\n",
    "#         * *\n",
    "#           *\n",
    "\n",
    "def get_pattern3(num):\n",
    "    for i in range(0,num):\n",
    "        print(\" \"*(i*2),\" *\"*(num-i))\n",
    "\n",
    "get_pattern3(5)"
   ]
  },
  {
   "cell_type": "code",
   "execution_count": 343,
   "metadata": {},
   "outputs": [
    {
     "name": "stdout",
     "output_type": "stream",
     "text": [
      "         \n",
      "        *\n",
      "      * *\n",
      "    * * *\n",
      "  * * * *\n"
     ]
    }
   ],
   "source": [
    "# pattern 4\n",
    "#         *\n",
    "#       * *\n",
    "#     * * *\n",
    "#   * * * *\n",
    "\n",
    "\n",
    "\n",
    "def get_pattern4(num):\n",
    "    for i in range(0,num):\n",
    "        print(\" \"*((num-1)*2-i*2),\" *\"*(i))\n",
    "\n",
    "get_pattern4(5)"
   ]
  },
  {
   "cell_type": "code",
   "execution_count": 530,
   "metadata": {},
   "outputs": [
    {
     "name": "stdout",
     "output_type": "stream",
     "text": [
      "       *\n",
      "     * * *\n",
      "   * * * * *\n",
      "     * * *\n",
      "       *\n"
     ]
    }
   ],
   "source": [
    "# pattern 4\n",
    "#       *\n",
    "#     * * *\n",
    "#   * * * * *\n",
    "#     * * *\n",
    "#       *\n",
    "\n",
    "\n",
    "def get_pattern5(num):\n",
    "\n",
    "    half=(num//2)+1\n",
    "    i=1\n",
    "    while num !=0:\n",
    "        print(\" \"*(half*2-(i)),\" *\"*(i))\n",
    "#         print(num,i)\n",
    "        if num > half:\n",
    "            i+=2\n",
    "        else:\n",
    "            i-=2\n",
    "        num-=1\n",
    "    \n",
    "get_pattern5(5)"
   ]
  },
  {
   "cell_type": "code",
   "execution_count": 426,
   "metadata": {},
   "outputs": [
    {
     "name": "stdout",
     "output_type": "stream",
     "text": [
      "___*____\n",
      "__***__\n",
      "_*****\n",
      "__***\n",
      "___*____\n"
     ]
    }
   ],
   "source": [
    "print(\"_\"*3+\"*\"*1+\"_\"*4)\n",
    "print(\"_\"*2+\"*\"*3+\"_\"*2)\n",
    "print(\"_\"*1+\"*\"*5+\"_\"*0)\n",
    "print(\"_\"*2+\"*\"*3+\"_\"*0)\n",
    "print(\"_\"*3+\"*\"*1+\"_\"*4)\n"
   ]
  },
  {
   "cell_type": "code",
   "execution_count": 486,
   "metadata": {},
   "outputs": [
    {
     "data": {
      "text/plain": [
       "5"
      ]
     },
     "execution_count": 486,
     "metadata": {},
     "output_type": "execute_result"
    }
   ],
   "source": [
    "1+2+2"
   ]
  },
  {
   "cell_type": "code",
   "execution_count": null,
   "metadata": {},
   "outputs": [],
   "source": []
  }
 ],
 "metadata": {
  "kernelspec": {
   "display_name": "Python 3",
   "language": "python",
   "name": "python3"
  },
  "language_info": {
   "codemirror_mode": {
    "name": "ipython",
    "version": 3
   },
   "file_extension": ".py",
   "mimetype": "text/x-python",
   "name": "python",
   "nbconvert_exporter": "python",
   "pygments_lexer": "ipython3",
   "version": "3.8.10"
  }
 },
 "nbformat": 4,
 "nbformat_minor": 5
}
