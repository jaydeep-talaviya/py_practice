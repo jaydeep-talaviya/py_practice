{
 "cells": [
  {
   "cell_type": "code",
   "execution_count": 34,
   "id": "1f36189b",
   "metadata": {},
   "outputs": [],
   "source": [
    "def runningSum(nums):\n",
    "    for idx in range(1,len(nums)):\n",
    "        nums[idx]=nums[idx]+nums[idx-1]\n",
    "    return nums"
   ]
  },
  {
   "cell_type": "code",
   "execution_count": 35,
   "id": "e0e50707",
   "metadata": {},
   "outputs": [
    {
     "data": {
      "text/plain": [
       "[1, 3, 6, 10]"
      ]
     },
     "execution_count": 35,
     "metadata": {},
     "output_type": "execute_result"
    }
   ],
   "source": [
    "a=[1,2,3,4]\n",
    "\n",
    "runningSum(a)"
   ]
  },
  {
   "cell_type": "code",
   "execution_count": 39,
   "id": "d747cf29",
   "metadata": {},
   "outputs": [],
   "source": [
    "def maximumWealth(accounts):\n",
    "    richest_sum = sum(accounts[0])\n",
    "    for customer in accounts:\n",
    "        customer_sum  = sum(customer)\n",
    "        if customer_sum > richest_sum:\n",
    "            richest_sum = customer_sum\n",
    "    return richest_sum"
   ]
  },
  {
   "cell_type": "code",
   "execution_count": 40,
   "id": "6756f2f6",
   "metadata": {},
   "outputs": [
    {
     "data": {
      "text/plain": [
       "6"
      ]
     },
     "execution_count": 40,
     "metadata": {},
     "output_type": "execute_result"
    }
   ],
   "source": [
    "a=[[1,2,3],[3,2,1]]\n",
    "maximumWealth(a)"
   ]
  },
  {
   "cell_type": "code",
   "execution_count": 41,
   "id": "c9dd800e",
   "metadata": {},
   "outputs": [
    {
     "data": {
      "text/plain": [
       "10"
      ]
     },
     "execution_count": 41,
     "metadata": {},
     "output_type": "execute_result"
    }
   ],
   "source": [
    "a=[[1,5],[7,3],[3,5]]\n",
    "maximumWealth(a)"
   ]
  },
  {
   "cell_type": "code",
   "execution_count": 42,
   "id": "71456ee6",
   "metadata": {},
   "outputs": [
    {
     "data": {
      "text/plain": [
       "17"
      ]
     },
     "execution_count": 42,
     "metadata": {},
     "output_type": "execute_result"
    }
   ],
   "source": [
    "a=[[2,8,7],[7,1,3],[1,9,5]]\n",
    "maximumWealth(a)"
   ]
  },
  {
   "cell_type": "code",
   "execution_count": 47,
   "id": "15f4c6f0",
   "metadata": {},
   "outputs": [],
   "source": [
    "def maximumWealth(accounts):\n",
    "    return max(map(lambda x:sum(x),accounts))"
   ]
  },
  {
   "cell_type": "code",
   "execution_count": 48,
   "id": "aeac5c07",
   "metadata": {},
   "outputs": [
    {
     "data": {
      "text/plain": [
       "6"
      ]
     },
     "execution_count": 48,
     "metadata": {},
     "output_type": "execute_result"
    }
   ],
   "source": [
    "a=[[1,2,3],[3,2,1]]\n",
    "maximumWealth(a)"
   ]
  },
  {
   "cell_type": "code",
   "execution_count": 49,
   "id": "8dfb36fa",
   "metadata": {},
   "outputs": [
    {
     "data": {
      "text/plain": [
       "10"
      ]
     },
     "execution_count": 49,
     "metadata": {},
     "output_type": "execute_result"
    }
   ],
   "source": [
    "a=[[1,5],[7,3],[3,5]]\n",
    "maximumWealth(a)"
   ]
  },
  {
   "cell_type": "code",
   "execution_count": 50,
   "id": "ee459f06",
   "metadata": {},
   "outputs": [
    {
     "data": {
      "text/plain": [
       "17"
      ]
     },
     "execution_count": 50,
     "metadata": {},
     "output_type": "execute_result"
    }
   ],
   "source": [
    "a=[[2,8,7],[7,1,3],[1,9,5]]\n",
    "maximumWealth(a)"
   ]
  },
  {
   "cell_type": "code",
   "execution_count": 51,
   "id": "c55a595c",
   "metadata": {},
   "outputs": [],
   "source": [
    "# Fizz Buzz"
   ]
  },
  {
   "cell_type": "code",
   "execution_count": 52,
   "id": "105132a0",
   "metadata": {},
   "outputs": [],
   "source": [
    "def fizzBuzz(n: int):\n",
    "    li=[]\n",
    "    for i in range(1,n+1):\n",
    "        if i%3 ==0 and i%5 == 0:\n",
    "            li.append(\"FizzBuzz\")\n",
    "        elif i%3 == 0:\n",
    "            li.append(\"Fizz\")\n",
    "        elif i%5 == 0:\n",
    "            li.append(\"Buzz\")\n",
    "        else:\n",
    "            li.append(str(i))\n",
    "    return li"
   ]
  },
  {
   "cell_type": "code",
   "execution_count": 53,
   "id": "1c49110c",
   "metadata": {},
   "outputs": [
    {
     "data": {
      "text/plain": [
       "['1', '2', 'Fizz']"
      ]
     },
     "execution_count": 53,
     "metadata": {},
     "output_type": "execute_result"
    }
   ],
   "source": [
    "n = 3\n",
    "fizzBuzz(n)"
   ]
  },
  {
   "cell_type": "code",
   "execution_count": 54,
   "id": "9a1bc954",
   "metadata": {},
   "outputs": [
    {
     "data": {
      "text/plain": [
       "['1', '2', 'Fizz', '4', 'Buzz']"
      ]
     },
     "execution_count": 54,
     "metadata": {},
     "output_type": "execute_result"
    }
   ],
   "source": [
    "n = 5\n",
    "fizzBuzz(n)"
   ]
  },
  {
   "cell_type": "code",
   "execution_count": 55,
   "id": "197d91a6",
   "metadata": {},
   "outputs": [
    {
     "data": {
      "text/plain": [
       "['1',\n",
       " '2',\n",
       " 'Fizz',\n",
       " '4',\n",
       " 'Buzz',\n",
       " 'Fizz',\n",
       " '7',\n",
       " '8',\n",
       " 'Fizz',\n",
       " 'Buzz',\n",
       " '11',\n",
       " 'Fizz',\n",
       " '13',\n",
       " '14',\n",
       " 'FizzBuzz']"
      ]
     },
     "execution_count": 55,
     "metadata": {},
     "output_type": "execute_result"
    }
   ],
   "source": [
    "n = 15\n",
    "fizzBuzz(n)"
   ]
  },
  {
   "cell_type": "code",
   "execution_count": 56,
   "id": "310220c9",
   "metadata": {},
   "outputs": [],
   "source": [
    "\n",
    "# 1342. Number of Steps to Reduce a Number to Zero"
   ]
  },
  {
   "cell_type": "code",
   "execution_count": 63,
   "id": "151487c0",
   "metadata": {},
   "outputs": [],
   "source": [
    "def numberOfSteps(num: int):\n",
    "    step = 0\n",
    "    while num != 0:\n",
    "        if num%2==0:\n",
    "            step+=1\n",
    "            num = num/2\n",
    "        else:\n",
    "            step+=1\n",
    "            num-=1\n",
    "    return step"
   ]
  },
  {
   "cell_type": "code",
   "execution_count": 67,
   "id": "6727d72e",
   "metadata": {},
   "outputs": [
    {
     "name": "stdout",
     "output_type": "stream",
     "text": [
      "7.0\n",
      "6.0\n",
      "3.0\n",
      "2.0\n",
      "1.0\n",
      "0.0\n"
     ]
    },
    {
     "data": {
      "text/plain": [
       "6"
      ]
     },
     "execution_count": 67,
     "metadata": {},
     "output_type": "execute_result"
    }
   ],
   "source": [
    "num = 14\n",
    "numberOfSteps(num)"
   ]
  },
  {
   "cell_type": "code",
   "execution_count": 66,
   "id": "ca9cf0aa",
   "metadata": {},
   "outputs": [
    {
     "name": "stdout",
     "output_type": "stream",
     "text": [
      "4.0\n",
      "2.0\n",
      "1.0\n",
      "0.0\n"
     ]
    },
    {
     "data": {
      "text/plain": [
       "4"
      ]
     },
     "execution_count": 66,
     "metadata": {},
     "output_type": "execute_result"
    }
   ],
   "source": [
    "num = 8\n",
    "numberOfSteps(num)"
   ]
  },
  {
   "cell_type": "code",
   "execution_count": 10,
   "id": "34c41141",
   "metadata": {},
   "outputs": [],
   "source": [
    "# consecutive of maximum number 1.\n",
    "def findMaxConsecutiveOnes(nums):\n",
    "    max_count = 0\n",
    "    prev_count = 0\n",
    "    \n",
    "    for val in nums:\n",
    "        if val == 1:\n",
    "            max_count +=1\n",
    "        else:\n",
    "            prev_count=max_count if max_count > prev_count else prev_count\n",
    "            max_count = 0\n",
    "            \n",
    "    return max_count if max_count > prev_count else prev_count\n"
   ]
  },
  {
   "cell_type": "code",
   "execution_count": 11,
   "id": "ec3b88ba",
   "metadata": {},
   "outputs": [
    {
     "data": {
      "text/plain": [
       "3"
      ]
     },
     "execution_count": 11,
     "metadata": {},
     "output_type": "execute_result"
    }
   ],
   "source": [
    "nums = [1,1,0,1,1,1]\n",
    "findMaxConsecutiveOnes(nums)"
   ]
  },
  {
   "cell_type": "code",
   "execution_count": 12,
   "id": "8b0959ae",
   "metadata": {},
   "outputs": [
    {
     "data": {
      "text/plain": [
       "2"
      ]
     },
     "execution_count": 12,
     "metadata": {},
     "output_type": "execute_result"
    }
   ],
   "source": [
    "nums = [1,0,1,1,0,1]\n",
    "findMaxConsecutiveOnes(nums)"
   ]
  },
  {
   "cell_type": "code",
   "execution_count": 13,
   "id": "045a37ea",
   "metadata": {},
   "outputs": [
    {
     "data": {
      "text/plain": [
       "4"
      ]
     },
     "execution_count": 13,
     "metadata": {},
     "output_type": "execute_result"
    }
   ],
   "source": [
    "nums = [1,1,1,1,0,1]\n",
    "findMaxConsecutiveOnes(nums)"
   ]
  },
  {
   "cell_type": "code",
   "execution_count": 14,
   "id": "831ddc51",
   "metadata": {},
   "outputs": [
    {
     "data": {
      "text/plain": [
       "3"
      ]
     },
     "execution_count": 14,
     "metadata": {},
     "output_type": "execute_result"
    }
   ],
   "source": [
    "nums = [0,1,1,1,0,1]\n",
    "findMaxConsecutiveOnes(nums)"
   ]
  },
  {
   "cell_type": "code",
   "execution_count": 15,
   "id": "9539ea6b",
   "metadata": {},
   "outputs": [
    {
     "data": {
      "text/plain": [
       "5"
      ]
     },
     "execution_count": 15,
     "metadata": {},
     "output_type": "execute_result"
    }
   ],
   "source": [
    "nums = [0,1,1,1,1,1]\n",
    "findMaxConsecutiveOnes(nums)"
   ]
  },
  {
   "cell_type": "code",
   "execution_count": 16,
   "id": "d5ec734a",
   "metadata": {},
   "outputs": [
    {
     "data": {
      "text/plain": [
       "2"
      ]
     },
     "execution_count": 16,
     "metadata": {},
     "output_type": "execute_result"
    }
   ],
   "source": [
    "nums = [0,1,1,0,1,1]\n",
    "findMaxConsecutiveOnes(nums)"
   ]
  },
  {
   "cell_type": "code",
   "execution_count": 37,
   "id": "db25945e",
   "metadata": {},
   "outputs": [],
   "source": [
    "# find even number of digit\n",
    "\n",
    "def findNumbers(nums):\n",
    "    even_counter = 0\n",
    "    for num in nums:\n",
    "        if len(str(num))%2==0:\n",
    "            even_counter+=1\n",
    "    return even_counter"
   ]
  },
  {
   "cell_type": "code",
   "execution_count": 38,
   "id": "edbbff10",
   "metadata": {},
   "outputs": [
    {
     "data": {
      "text/plain": [
       "2"
      ]
     },
     "execution_count": 38,
     "metadata": {},
     "output_type": "execute_result"
    }
   ],
   "source": [
    "nums = [12,345,2,6,7896]\n",
    "findNumbers(nums)"
   ]
  },
  {
   "cell_type": "code",
   "execution_count": 39,
   "id": "8c44059f",
   "metadata": {},
   "outputs": [
    {
     "data": {
      "text/plain": [
       "1"
      ]
     },
     "execution_count": 39,
     "metadata": {},
     "output_type": "execute_result"
    }
   ],
   "source": [
    "nums = [555,901,482,1771]\n",
    "findNumbers(nums)"
   ]
  },
  {
   "cell_type": "code",
   "execution_count": 43,
   "id": "ed6b5396",
   "metadata": {},
   "outputs": [],
   "source": [
    "# square with sorting\n",
    "def sortedSquares(nums):\n",
    "    return sorted(map(lambda x:x*x,nums))"
   ]
  },
  {
   "cell_type": "code",
   "execution_count": 44,
   "id": "5d246e93",
   "metadata": {},
   "outputs": [
    {
     "data": {
      "text/plain": [
       "[0, 1, 9, 16, 100]"
      ]
     },
     "execution_count": 44,
     "metadata": {},
     "output_type": "execute_result"
    }
   ],
   "source": [
    "nums = [-4,-1,0,3,10]\n",
    "sortedSquares(nums)"
   ]
  },
  {
   "cell_type": "code",
   "execution_count": 76,
   "id": "dd9b99d5",
   "metadata": {},
   "outputs": [],
   "source": [
    "# reveser number\n",
    "def get_reversed(num):\n",
    "    if (2**31)-1 <= num or num <= -(2**31):\n",
    "        return 0\n",
    "    reversed_num=0 \n",
    "    negetive = -1 if num < 0 else 1\n",
    "    num=abs(num)\n",
    "    counter=len(str(num))\n",
    "    \n",
    "    while num!=0:\n",
    "        reversed_num+=num%10*(10**(counter-1))\n",
    "        num=num//10\n",
    "        counter-=1\n",
    "    return reversed_num*negetive"
   ]
  },
  {
   "cell_type": "code",
   "execution_count": 77,
   "id": "b1d476dc",
   "metadata": {},
   "outputs": [
    {
     "data": {
      "text/plain": [
       "21"
      ]
     },
     "execution_count": 77,
     "metadata": {},
     "output_type": "execute_result"
    }
   ],
   "source": [
    "num=120\n",
    "get_reversed(num)"
   ]
  },
  {
   "cell_type": "code",
   "execution_count": 78,
   "id": "98cd15f3",
   "metadata": {},
   "outputs": [
    {
     "data": {
      "text/plain": [
       "-21"
      ]
     },
     "execution_count": 78,
     "metadata": {},
     "output_type": "execute_result"
    }
   ],
   "source": [
    "num=-120\n",
    "get_reversed(num)"
   ]
  },
  {
   "cell_type": "code",
   "execution_count": 79,
   "id": "14d10bc5",
   "metadata": {},
   "outputs": [
    {
     "data": {
      "text/plain": [
       "-2143847412"
      ]
     },
     "execution_count": 79,
     "metadata": {},
     "output_type": "execute_result"
    }
   ],
   "source": [
    "num=-2147483412\n",
    "\n",
    "get_reversed(num)"
   ]
  },
  {
   "cell_type": "code",
   "execution_count": 80,
   "id": "0c863c84",
   "metadata": {},
   "outputs": [
    {
     "data": {
      "text/plain": [
       "2147483641"
      ]
     },
     "execution_count": 80,
     "metadata": {},
     "output_type": "execute_result"
    }
   ],
   "source": [
    "num=1463847412\n",
    "\n",
    "get_reversed(num)"
   ]
  },
  {
   "cell_type": "code",
   "execution_count": null,
   "id": "cc4b0982",
   "metadata": {},
   "outputs": [],
   "source": [
    "# Palindrom number\n",
    "def get_palindrom_num(num):\n",
    "    reverse_num = 0\n",
    "    origional=num\n",
    "    while num!=0:\n",
    "        num=num%10\n",
    "        "
   ]
  },
  {
   "cell_type": "code",
   "execution_count": 88,
   "id": "ed1b0b86",
   "metadata": {},
   "outputs": [
    {
     "data": {
      "text/plain": [
       "1"
      ]
     },
     "execution_count": 88,
     "metadata": {},
     "output_type": "execute_result"
    }
   ],
   "source": [
    "121%10"
   ]
  },
  {
   "cell_type": "code",
   "execution_count": 92,
   "id": "fddad2d2",
   "metadata": {},
   "outputs": [
    {
     "data": {
      "text/plain": [
       "21"
      ]
     },
     "execution_count": 92,
     "metadata": {},
     "output_type": "execute_result"
    }
   ],
   "source": []
  },
  {
   "cell_type": "code",
   "execution_count": null,
   "id": "7e916bb2",
   "metadata": {},
   "outputs": [],
   "source": []
  }
 ],
 "metadata": {
  "kernelspec": {
   "display_name": "Python 3 (ipykernel)",
   "language": "python",
   "name": "python3"
  },
  "language_info": {
   "codemirror_mode": {
    "name": "ipython",
    "version": 3
   },
   "file_extension": ".py",
   "mimetype": "text/x-python",
   "name": "python",
   "nbconvert_exporter": "python",
   "pygments_lexer": "ipython3",
   "version": "3.8.10"
  }
 },
 "nbformat": 4,
 "nbformat_minor": 5
}
